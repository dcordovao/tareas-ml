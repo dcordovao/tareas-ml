{
 "cells": [
  {
   "cell_type": "markdown",
   "metadata": {
    "colab_type": "text",
    "id": "JgGX-Av0wQeI"
   },
   "source": [
    "### <img src=\"http://www.exalumnos.usm.cl/wp-content/uploads/2015/06/Isotipo-Negro.gif\" title=\"Title text\" width=\"20%\" height=\"20%\" />\n",
    "\n",
    "\n",
    "<hr style=\"height:2px;border:none\"/>\n",
    "<h1 align='center'> INF-393/578 Máquinas de Aprendizaje - 2019-1 </h1>\n",
    "\n",
    "<H3 align='center'> Tarea 3  </H3>\n",
    "<hr style=\"height:2px;border:none\"/>\n",
    "\n",
    "**Temas**  \n",
    "* Manipulaciones en numpy\n",
    "* Arboles de clasificación y regresión\n",
    "* Algunas Redes neuronales básicas\n",
    "* Ensamblados, Adaboost y Random Forest\n",
    "* Nociones de clases desbalanceadas\n",
    "\n",
    "\n",
    "**Formalidades**  \n",
    "* Equipos de trabajo de 2 personas (*Ambos estudiantes deben estar preparados para presentar la tarea el día de la entrega*)\n",
    "* El entregable debe ser un _Jupyter Notebook_ incluyendo los códigos utilizados, los resultados, los gráficos realizados y comentarios. Debe seguir una estructura similar a un informe (se debe introducir los problemas a trabajar, presentar los resultados y discutirlos). Si lo prefiere puede entregar un _Jupyter Notebook_ por pregunta o uno por toda la tarea, con tal de que todos los entregables esten bien identificados y se encuentren en el mismo repositorio de _Github_.\n",
    "* Se debe preparar una presentación del trabajo realizado y sus hallazgos. El presentador será elegido aleatoriamente y deberá apoyarse en el _Jupyter Notebook_ que entregarán. \n",
    "* Formato de entrega: envı́o de link del repositorio *privado* en _Github_, al correo electrónico del ayudante (*<alvaro.valderrama.13@sansano.usm.cl>*), en copia al profesor (*<cvalle@inf.utfsm.cl>*). Especificar el siguiente asunto: [INF393/578-2019 Tarea 3]. Invitar como colaborador al usuario de github \"avalderr\" para poder acceder al repositorio.\n",
    "* Fecha de entrega y presentaciones: 13 de Septiembre. Hora límite de entrega: 23:50. Cualquier _commit_ luego de la hora límite no será evaluado. Se realizará descuento por atrasos en envío del mail. \n",
    "\n",
    "<hr style=\"height:2px;border:none\"/>\n",
    "\n",
    "La tarea se divide en tres partes:\n",
    "\n",
    "[1.](#primero) Regresión para ubicación espacial  \n",
    "[2.](#segundo) Clasificación con clases desbalanceadas    \n",
    "[3.](#tercero) Clasificación en texto   \n",
    "\n",
    "La tarea tiene ejemplos de códigos con los cuales pueden guiarse en gran parte, sin embargo solo son guias y pueden ser creativos al momento de resolver la tarea. Soluciones creativas o elegantes serán valoradas. También en algunas ocaciones se hacen elecciones arbitrarias, ustedes pueden realizar otras elecciones con tal de que haya una pequeña justificación de por qué su elección es mejor o equivalente.\n",
    "Recuerden intercalar su código con comentarios y con celdas _Markdown_ con los comentarios de la pregunta y con cualquier analisis, fórmula (en $ \\LaTeX $) o explicación que les parezca relevante para justificar sus procedimientos. \n",
    "Noten que en general cuando se les pide elegir algo o proponer algo no se evaluará mucho la elección en si, en cambio la argumentación detrás de la elección será lo más ponderado.\n",
    "Si algun modelo se demora demasiado en correr en su maquina, no olvide que puede correr _Jupyter Notebooks_ en _Collab_ de Google, esto puede ser relevante para las maquinas más lentas al momento de realizar exploraciones con _K-folds_ por ejemplo."
   ]
  },
  {
   "cell_type": "markdown",
   "metadata": {
    "colab_type": "text",
    "id": "DkDbjQdOwQeK"
   },
   "source": [
    "<a id=\"primero\"></a>\n",
    "## 1. Regresión para ubicación espacial\n",
    "\n",
    "Un problema que tiene aplicaciones para muchos servicios es el calculo de la ubicación espacial exacta de un dispositivo conectado dentro de un edificio o un complejo de edificios. Estando dentro de un aeropuerto nuestro celular nos podría dar indicaciones para llegar a nuestra puerta de embarque o dentro de un mall encontrar la tienda que encontramos serían aplicaciones que fácilmente se desprenden de la solución a este problema. Actualmente en exteriores el problema se soluciona fácilmente mediante el uso de GPS, sin embargo en interiores el problema se vuelve más complicado pues hay considerable pérdida de la señar GPS y muchas superficies de construcción pueden resultar reflectantes para algunos tipos de señales por lo cual el problema es mucho más dificil de modelar que el problema en el exterior. \n",
    "\n",
    "\n",
    "En esta primera parte de la tarea utilizaremos un _dataset_ creado en 2013 con más de 20000 mediciones de posición dentro de 4 edificios de la universidad de Jaume, disponible en https://archive.ics.uci.edu/ml/datasets/UJIIndoorLoc junto con una detallada descripción. Nuestra tarea será predecir la ubicación espacial en latitud, longitud, y altura (en pisos) de los distintos usuarios que realizaron esta tarea, a partir de las intensidades de señal medidas por los 520 distintos puntos de acceso inalambricos. Para esto, probaremos utilizaremos arboles de regresión, regresión lineal y redes neuronales, comparando los distintos desempeños y las ventajas y desventajas de cada aproximación. \n"
   ]
  },
  {
   "cell_type": "markdown",
   "metadata": {
    "colab_type": "text",
    "id": "wJZPmveowQeL"
   },
   "source": [
    "#### 1.a Carga de datos\n",
    "\n",
    "Cargue los datos de entrenamiento y validación y júntelos en un solo DataFrame como muestra el código. \n",
    "\n",
    "De los datos entregados luego del _target_ solo consideraremos el tipo de celular utilizado, convirtiendolo a variables _dummies_ como muestra el código. \n",
    "\n",
    "Separe el _target_ del resto de los datos."
   ]
  },
  {
   "cell_type": "code",
   "execution_count": 1,
   "metadata": {
    "colab": {},
    "colab_type": "code",
    "id": "xxK9XuH-3ux4"
   },
   "outputs": [],
   "source": [
    "import pandas as pd\n",
    "import matplotlib.pyplot as plt\n",
    "import numpy as np\n",
    "import math\n",
    "\n",
    "import scipy.stats as stats\n",
    "\n",
    "from sklearn.preprocessing import StandardScaler\n",
    "from sklearn.model_selection import train_test_split, KFold\n",
    "from sklearn.linear_model import LinearRegression\n",
    "from sklearn.tree import DecisionTreeRegressor\n",
    "from sklearn.metrics import mean_squared_error\n",
    "from sklearn.metrics import r2_score\n",
    "from sklearn.utils import shuffle"
   ]
  },
  {
   "cell_type": "code",
   "execution_count": 0,
   "metadata": {
    "colab": {
     "base_uri": "https://localhost:8080/",
     "height": 108,
     "resources": {
      "http://localhost:8080/nbextensions/google.colab/files.js": {
       "data": "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",
       "headers": [
        [
         "content-type",
         "application/javascript"
        ]
       ],
       "ok": true,
       "status": 200,
       "status_text": ""
      }
     }
    },
    "colab_type": "code",
    "id": "qEhwHIf61fNU",
    "outputId": "23e92fd4-d891-46ec-f8fb-1645cfcbee9b",
    "scrolled": true
   },
   "outputs": [
    {
     "data": {
      "text/html": [
       "\n",
       "     <input type=\"file\" id=\"files-d9a4c2f0-60cd-40b5-bc4e-a13b17dbcb81\" name=\"files[]\" multiple disabled />\n",
       "     <output id=\"result-d9a4c2f0-60cd-40b5-bc4e-a13b17dbcb81\">\n",
       "      Upload widget is only available when the cell has been executed in the\n",
       "      current browser session. Please rerun this cell to enable.\n",
       "      </output>\n",
       "      <script src=\"/nbextensions/google.colab/files.js\"></script> "
      ],
      "text/plain": [
       "<IPython.core.display.HTML object>"
      ]
     },
     "metadata": {
      "tags": []
     },
     "output_type": "display_data"
    },
    {
     "name": "stdout",
     "output_type": "stream",
     "text": [
      "Saving trainingData.csv to trainingData (1).csv\n",
      "Saving validationData.csv to validationData (1).csv\n"
     ]
    }
   ],
   "source": [
    "from google.colab import files\n",
    "uploaded = files.upload()"
   ]
  },
  {
   "cell_type": "code",
   "execution_count": 2,
   "metadata": {
    "colab": {},
    "colab_type": "code",
    "id": "YvpOuzU23Km0"
   },
   "outputs": [],
   "source": [
    "df_tr = pd.read_csv(\"data/data_pregunta1/trainingData.csv\")\n",
    "df_val = pd.read_csv(\"data/data_pregunta1/validationData.csv\")\n",
    "#df_tr = pd.read_csv(\"trainingData.csv\")\n",
    "#df_val = pd.read_csv(\"validationData.csv\")"
   ]
  },
  {
   "cell_type": "code",
   "execution_count": 3,
   "metadata": {
    "colab": {
     "base_uri": "https://localhost:8080/",
     "height": 253
    },
    "colab_type": "code",
    "id": "UleE0ATn36Nj",
    "outputId": "8614fdaa-3b57-485b-ce4f-2fc4cbf722cc"
   },
   "outputs": [
    {
     "data": {
      "text/html": [
       "<div>\n",
       "<style scoped>\n",
       "    .dataframe tbody tr th:only-of-type {\n",
       "        vertical-align: middle;\n",
       "    }\n",
       "\n",
       "    .dataframe tbody tr th {\n",
       "        vertical-align: top;\n",
       "    }\n",
       "\n",
       "    .dataframe thead th {\n",
       "        text-align: right;\n",
       "    }\n",
       "</style>\n",
       "<table border=\"1\" class=\"dataframe\">\n",
       "  <thead>\n",
       "    <tr style=\"text-align: right;\">\n",
       "      <th></th>\n",
       "      <th>WAP001</th>\n",
       "      <th>WAP002</th>\n",
       "      <th>WAP003</th>\n",
       "      <th>WAP004</th>\n",
       "      <th>WAP005</th>\n",
       "      <th>WAP006</th>\n",
       "      <th>WAP007</th>\n",
       "      <th>WAP008</th>\n",
       "      <th>WAP009</th>\n",
       "      <th>WAP010</th>\n",
       "      <th>...</th>\n",
       "      <th>WAP520</th>\n",
       "      <th>LONGITUDE</th>\n",
       "      <th>LATITUDE</th>\n",
       "      <th>FLOOR</th>\n",
       "      <th>BUILDINGID</th>\n",
       "      <th>SPACEID</th>\n",
       "      <th>RELATIVEPOSITION</th>\n",
       "      <th>USERID</th>\n",
       "      <th>PHONEID</th>\n",
       "      <th>TIMESTAMP</th>\n",
       "    </tr>\n",
       "  </thead>\n",
       "  <tbody>\n",
       "    <tr>\n",
       "      <td>0</td>\n",
       "      <td>100</td>\n",
       "      <td>100</td>\n",
       "      <td>100</td>\n",
       "      <td>100</td>\n",
       "      <td>100</td>\n",
       "      <td>100</td>\n",
       "      <td>100</td>\n",
       "      <td>100</td>\n",
       "      <td>100</td>\n",
       "      <td>100</td>\n",
       "      <td>...</td>\n",
       "      <td>100</td>\n",
       "      <td>-7541.2643</td>\n",
       "      <td>4.864921e+06</td>\n",
       "      <td>2</td>\n",
       "      <td>1</td>\n",
       "      <td>106</td>\n",
       "      <td>2</td>\n",
       "      <td>2</td>\n",
       "      <td>23</td>\n",
       "      <td>1371713733</td>\n",
       "    </tr>\n",
       "    <tr>\n",
       "      <td>1</td>\n",
       "      <td>100</td>\n",
       "      <td>100</td>\n",
       "      <td>100</td>\n",
       "      <td>100</td>\n",
       "      <td>100</td>\n",
       "      <td>100</td>\n",
       "      <td>100</td>\n",
       "      <td>100</td>\n",
       "      <td>100</td>\n",
       "      <td>100</td>\n",
       "      <td>...</td>\n",
       "      <td>100</td>\n",
       "      <td>-7536.6212</td>\n",
       "      <td>4.864934e+06</td>\n",
       "      <td>2</td>\n",
       "      <td>1</td>\n",
       "      <td>106</td>\n",
       "      <td>2</td>\n",
       "      <td>2</td>\n",
       "      <td>23</td>\n",
       "      <td>1371713691</td>\n",
       "    </tr>\n",
       "    <tr>\n",
       "      <td>2</td>\n",
       "      <td>100</td>\n",
       "      <td>100</td>\n",
       "      <td>100</td>\n",
       "      <td>100</td>\n",
       "      <td>100</td>\n",
       "      <td>100</td>\n",
       "      <td>100</td>\n",
       "      <td>-97</td>\n",
       "      <td>100</td>\n",
       "      <td>100</td>\n",
       "      <td>...</td>\n",
       "      <td>100</td>\n",
       "      <td>-7519.1524</td>\n",
       "      <td>4.864950e+06</td>\n",
       "      <td>2</td>\n",
       "      <td>1</td>\n",
       "      <td>103</td>\n",
       "      <td>2</td>\n",
       "      <td>2</td>\n",
       "      <td>23</td>\n",
       "      <td>1371714095</td>\n",
       "    </tr>\n",
       "    <tr>\n",
       "      <td>3</td>\n",
       "      <td>100</td>\n",
       "      <td>100</td>\n",
       "      <td>100</td>\n",
       "      <td>100</td>\n",
       "      <td>100</td>\n",
       "      <td>100</td>\n",
       "      <td>100</td>\n",
       "      <td>100</td>\n",
       "      <td>100</td>\n",
       "      <td>100</td>\n",
       "      <td>...</td>\n",
       "      <td>100</td>\n",
       "      <td>-7524.5704</td>\n",
       "      <td>4.864934e+06</td>\n",
       "      <td>2</td>\n",
       "      <td>1</td>\n",
       "      <td>102</td>\n",
       "      <td>2</td>\n",
       "      <td>2</td>\n",
       "      <td>23</td>\n",
       "      <td>1371713807</td>\n",
       "    </tr>\n",
       "    <tr>\n",
       "      <td>4</td>\n",
       "      <td>100</td>\n",
       "      <td>100</td>\n",
       "      <td>100</td>\n",
       "      <td>100</td>\n",
       "      <td>100</td>\n",
       "      <td>100</td>\n",
       "      <td>100</td>\n",
       "      <td>100</td>\n",
       "      <td>100</td>\n",
       "      <td>100</td>\n",
       "      <td>...</td>\n",
       "      <td>100</td>\n",
       "      <td>-7632.1436</td>\n",
       "      <td>4.864982e+06</td>\n",
       "      <td>0</td>\n",
       "      <td>0</td>\n",
       "      <td>122</td>\n",
       "      <td>2</td>\n",
       "      <td>11</td>\n",
       "      <td>13</td>\n",
       "      <td>1369909710</td>\n",
       "    </tr>\n",
       "  </tbody>\n",
       "</table>\n",
       "<p>5 rows × 529 columns</p>\n",
       "</div>"
      ],
      "text/plain": [
       "   WAP001  WAP002  WAP003  WAP004  WAP005  WAP006  WAP007  WAP008  WAP009  \\\n",
       "0     100     100     100     100     100     100     100     100     100   \n",
       "1     100     100     100     100     100     100     100     100     100   \n",
       "2     100     100     100     100     100     100     100     -97     100   \n",
       "3     100     100     100     100     100     100     100     100     100   \n",
       "4     100     100     100     100     100     100     100     100     100   \n",
       "\n",
       "   WAP010  ...  WAP520  LONGITUDE      LATITUDE  FLOOR  BUILDINGID  SPACEID  \\\n",
       "0     100  ...     100 -7541.2643  4.864921e+06      2           1      106   \n",
       "1     100  ...     100 -7536.6212  4.864934e+06      2           1      106   \n",
       "2     100  ...     100 -7519.1524  4.864950e+06      2           1      103   \n",
       "3     100  ...     100 -7524.5704  4.864934e+06      2           1      102   \n",
       "4     100  ...     100 -7632.1436  4.864982e+06      0           0      122   \n",
       "\n",
       "   RELATIVEPOSITION  USERID  PHONEID   TIMESTAMP  \n",
       "0                 2       2       23  1371713733  \n",
       "1                 2       2       23  1371713691  \n",
       "2                 2       2       23  1371714095  \n",
       "3                 2       2       23  1371713807  \n",
       "4                 2      11       13  1369909710  \n",
       "\n",
       "[5 rows x 529 columns]"
      ]
     },
     "execution_count": 3,
     "metadata": {},
     "output_type": "execute_result"
    }
   ],
   "source": [
    "df_tr.head()"
   ]
  },
  {
   "cell_type": "code",
   "execution_count": 18,
   "metadata": {
    "colab": {
     "base_uri": "https://localhost:8080/",
     "height": 346
    },
    "colab_type": "code",
    "id": "ytlRpksDG9FL",
    "outputId": "43ecf38d-d30b-446a-ac0a-3c71cf0a4147"
   },
   "outputs": [
    {
     "data": {
      "text/html": [
       "<div>\n",
       "<style scoped>\n",
       "    .dataframe tbody tr th:only-of-type {\n",
       "        vertical-align: middle;\n",
       "    }\n",
       "\n",
       "    .dataframe tbody tr th {\n",
       "        vertical-align: top;\n",
       "    }\n",
       "\n",
       "    .dataframe thead th {\n",
       "        text-align: right;\n",
       "    }\n",
       "</style>\n",
       "<table border=\"1\" class=\"dataframe\">\n",
       "  <thead>\n",
       "    <tr style=\"text-align: right;\">\n",
       "      <th></th>\n",
       "      <th>WAP001</th>\n",
       "      <th>WAP002</th>\n",
       "      <th>WAP003</th>\n",
       "      <th>WAP004</th>\n",
       "      <th>WAP005</th>\n",
       "      <th>WAP006</th>\n",
       "      <th>WAP007</th>\n",
       "      <th>WAP008</th>\n",
       "      <th>WAP009</th>\n",
       "      <th>WAP010</th>\n",
       "      <th>WAP011</th>\n",
       "      <th>WAP012</th>\n",
       "      <th>WAP013</th>\n",
       "      <th>WAP014</th>\n",
       "      <th>WAP015</th>\n",
       "      <th>WAP016</th>\n",
       "      <th>WAP017</th>\n",
       "      <th>WAP018</th>\n",
       "      <th>WAP019</th>\n",
       "      <th>WAP020</th>\n",
       "      <th>WAP021</th>\n",
       "      <th>WAP022</th>\n",
       "      <th>WAP023</th>\n",
       "      <th>WAP024</th>\n",
       "      <th>WAP025</th>\n",
       "      <th>WAP026</th>\n",
       "      <th>WAP027</th>\n",
       "      <th>WAP028</th>\n",
       "      <th>WAP029</th>\n",
       "      <th>WAP030</th>\n",
       "      <th>WAP031</th>\n",
       "      <th>WAP032</th>\n",
       "      <th>WAP033</th>\n",
       "      <th>WAP034</th>\n",
       "      <th>WAP035</th>\n",
       "      <th>WAP036</th>\n",
       "      <th>WAP037</th>\n",
       "      <th>WAP038</th>\n",
       "      <th>WAP039</th>\n",
       "      <th>WAP040</th>\n",
       "      <th>...</th>\n",
       "      <th>WAP490</th>\n",
       "      <th>WAP491</th>\n",
       "      <th>WAP492</th>\n",
       "      <th>WAP493</th>\n",
       "      <th>WAP494</th>\n",
       "      <th>WAP495</th>\n",
       "      <th>WAP496</th>\n",
       "      <th>WAP497</th>\n",
       "      <th>WAP498</th>\n",
       "      <th>WAP499</th>\n",
       "      <th>WAP500</th>\n",
       "      <th>WAP501</th>\n",
       "      <th>WAP502</th>\n",
       "      <th>WAP503</th>\n",
       "      <th>WAP504</th>\n",
       "      <th>WAP505</th>\n",
       "      <th>WAP506</th>\n",
       "      <th>WAP507</th>\n",
       "      <th>WAP508</th>\n",
       "      <th>WAP509</th>\n",
       "      <th>WAP510</th>\n",
       "      <th>WAP511</th>\n",
       "      <th>WAP512</th>\n",
       "      <th>WAP513</th>\n",
       "      <th>WAP514</th>\n",
       "      <th>WAP515</th>\n",
       "      <th>WAP516</th>\n",
       "      <th>WAP517</th>\n",
       "      <th>WAP518</th>\n",
       "      <th>WAP519</th>\n",
       "      <th>WAP520</th>\n",
       "      <th>LONGITUDE</th>\n",
       "      <th>LATITUDE</th>\n",
       "      <th>FLOOR</th>\n",
       "      <th>BUILDINGID</th>\n",
       "      <th>SPACEID</th>\n",
       "      <th>RELATIVEPOSITION</th>\n",
       "      <th>USERID</th>\n",
       "      <th>PHONEID</th>\n",
       "      <th>TIMESTAMP</th>\n",
       "    </tr>\n",
       "  </thead>\n",
       "  <tbody>\n",
       "    <tr>\n",
       "      <th>count</th>\n",
       "      <td>11254.000000</td>\n",
       "      <td>11254.0</td>\n",
       "      <td>11254.0</td>\n",
       "      <td>11254.0</td>\n",
       "      <td>11254.000000</td>\n",
       "      <td>11254.000000</td>\n",
       "      <td>11254.000000</td>\n",
       "      <td>11254.000000</td>\n",
       "      <td>11254.000000</td>\n",
       "      <td>11254.000000</td>\n",
       "      <td>11254.000000</td>\n",
       "      <td>11254.000000</td>\n",
       "      <td>11254.000000</td>\n",
       "      <td>11254.000000</td>\n",
       "      <td>11254.000000</td>\n",
       "      <td>11254.000000</td>\n",
       "      <td>11254.000000</td>\n",
       "      <td>11254.000000</td>\n",
       "      <td>11254.000000</td>\n",
       "      <td>11254.000000</td>\n",
       "      <td>11254.000000</td>\n",
       "      <td>11254.000000</td>\n",
       "      <td>11254.000000</td>\n",
       "      <td>11254.000000</td>\n",
       "      <td>11254.000000</td>\n",
       "      <td>11254.000000</td>\n",
       "      <td>11254.000000</td>\n",
       "      <td>11254.000000</td>\n",
       "      <td>11254.000000</td>\n",
       "      <td>11254.000000</td>\n",
       "      <td>11254.000000</td>\n",
       "      <td>11254.000000</td>\n",
       "      <td>11254.000000</td>\n",
       "      <td>11254.000000</td>\n",
       "      <td>11254.000000</td>\n",
       "      <td>11254.000000</td>\n",
       "      <td>11254.000000</td>\n",
       "      <td>11254.000000</td>\n",
       "      <td>11254.000000</td>\n",
       "      <td>11254.000000</td>\n",
       "      <td>...</td>\n",
       "      <td>11254.000000</td>\n",
       "      <td>11254.0</td>\n",
       "      <td>11254.0</td>\n",
       "      <td>11254.000000</td>\n",
       "      <td>11253.000000</td>\n",
       "      <td>11253.000000</td>\n",
       "      <td>11253.000000</td>\n",
       "      <td>11253.0</td>\n",
       "      <td>11253.0</td>\n",
       "      <td>11253.0</td>\n",
       "      <td>11253.000000</td>\n",
       "      <td>11253.000000</td>\n",
       "      <td>11253.000000</td>\n",
       "      <td>11253.000000</td>\n",
       "      <td>11253.000000</td>\n",
       "      <td>11253.0</td>\n",
       "      <td>11253.000000</td>\n",
       "      <td>11253.000000</td>\n",
       "      <td>11253.000000</td>\n",
       "      <td>11253.000000</td>\n",
       "      <td>11253.000000</td>\n",
       "      <td>11253.000000</td>\n",
       "      <td>11253.000000</td>\n",
       "      <td>11253.0</td>\n",
       "      <td>11253.0</td>\n",
       "      <td>11253.000000</td>\n",
       "      <td>11253.000000</td>\n",
       "      <td>11253.000000</td>\n",
       "      <td>11253.000000</td>\n",
       "      <td>11253.000000</td>\n",
       "      <td>11253.0</td>\n",
       "      <td>11253.000000</td>\n",
       "      <td>1.125300e+04</td>\n",
       "      <td>11253.000000</td>\n",
       "      <td>11253.000000</td>\n",
       "      <td>11253.000000</td>\n",
       "      <td>11253.000000</td>\n",
       "      <td>11253.000000</td>\n",
       "      <td>11253.000000</td>\n",
       "      <td>1.125300e+04</td>\n",
       "    </tr>\n",
       "    <tr>\n",
       "      <th>mean</th>\n",
       "      <td>99.739559</td>\n",
       "      <td>100.0</td>\n",
       "      <td>100.0</td>\n",
       "      <td>100.0</td>\n",
       "      <td>99.759641</td>\n",
       "      <td>95.051093</td>\n",
       "      <td>90.911409</td>\n",
       "      <td>95.332237</td>\n",
       "      <td>96.233162</td>\n",
       "      <td>99.316243</td>\n",
       "      <td>74.458948</td>\n",
       "      <td>74.686423</td>\n",
       "      <td>87.037320</td>\n",
       "      <td>86.807091</td>\n",
       "      <td>89.985694</td>\n",
       "      <td>89.505331</td>\n",
       "      <td>99.331882</td>\n",
       "      <td>99.453261</td>\n",
       "      <td>97.375511</td>\n",
       "      <td>97.384486</td>\n",
       "      <td>99.514661</td>\n",
       "      <td>99.499111</td>\n",
       "      <td>89.030389</td>\n",
       "      <td>89.140750</td>\n",
       "      <td>96.034388</td>\n",
       "      <td>96.050560</td>\n",
       "      <td>89.421539</td>\n",
       "      <td>88.863071</td>\n",
       "      <td>90.336414</td>\n",
       "      <td>89.874533</td>\n",
       "      <td>91.465523</td>\n",
       "      <td>91.464724</td>\n",
       "      <td>90.873201</td>\n",
       "      <td>90.836414</td>\n",
       "      <td>90.169629</td>\n",
       "      <td>89.881731</td>\n",
       "      <td>93.642083</td>\n",
       "      <td>93.865648</td>\n",
       "      <td>90.592412</td>\n",
       "      <td>90.596321</td>\n",
       "      <td>...</td>\n",
       "      <td>99.795184</td>\n",
       "      <td>100.0</td>\n",
       "      <td>100.0</td>\n",
       "      <td>99.991203</td>\n",
       "      <td>99.723807</td>\n",
       "      <td>72.860659</td>\n",
       "      <td>64.561539</td>\n",
       "      <td>100.0</td>\n",
       "      <td>100.0</td>\n",
       "      <td>100.0</td>\n",
       "      <td>99.568648</td>\n",
       "      <td>71.716253</td>\n",
       "      <td>62.758731</td>\n",
       "      <td>84.208655</td>\n",
       "      <td>99.693060</td>\n",
       "      <td>100.0</td>\n",
       "      <td>99.895761</td>\n",
       "      <td>99.965165</td>\n",
       "      <td>98.821736</td>\n",
       "      <td>99.982405</td>\n",
       "      <td>99.982494</td>\n",
       "      <td>86.173820</td>\n",
       "      <td>99.895850</td>\n",
       "      <td>100.0</td>\n",
       "      <td>100.0</td>\n",
       "      <td>99.707100</td>\n",
       "      <td>74.178175</td>\n",
       "      <td>68.085666</td>\n",
       "      <td>99.708611</td>\n",
       "      <td>99.947747</td>\n",
       "      <td>100.0</td>\n",
       "      <td>-7451.476352</td>\n",
       "      <td>4.864862e+06</td>\n",
       "      <td>1.778104</td>\n",
       "      <td>1.300631</td>\n",
       "      <td>154.886341</td>\n",
       "      <td>1.802719</td>\n",
       "      <td>8.100684</td>\n",
       "      <td>12.455523</td>\n",
       "      <td>1.371383e+09</td>\n",
       "    </tr>\n",
       "    <tr>\n",
       "      <th>std</th>\n",
       "      <td>7.129414</td>\n",
       "      <td>0.0</td>\n",
       "      <td>0.0</td>\n",
       "      <td>0.0</td>\n",
       "      <td>6.811165</td>\n",
       "      <td>29.936871</td>\n",
       "      <td>39.652790</td>\n",
       "      <td>29.046883</td>\n",
       "      <td>25.781792</td>\n",
       "      <td>11.452650</td>\n",
       "      <td>61.796801</td>\n",
       "      <td>61.513972</td>\n",
       "      <td>46.209777</td>\n",
       "      <td>46.606454</td>\n",
       "      <td>42.147031</td>\n",
       "      <td>43.118433</td>\n",
       "      <td>11.331734</td>\n",
       "      <td>10.240531</td>\n",
       "      <td>21.477503</td>\n",
       "      <td>21.472256</td>\n",
       "      <td>9.718636</td>\n",
       "      <td>9.855381</td>\n",
       "      <td>42.810725</td>\n",
       "      <td>42.572817</td>\n",
       "      <td>26.419090</td>\n",
       "      <td>26.363795</td>\n",
       "      <td>42.076207</td>\n",
       "      <td>43.141885</td>\n",
       "      <td>40.177448</td>\n",
       "      <td>41.153804</td>\n",
       "      <td>37.749435</td>\n",
       "      <td>37.707819</td>\n",
       "      <td>39.120158</td>\n",
       "      <td>39.208441</td>\n",
       "      <td>40.413559</td>\n",
       "      <td>41.011242</td>\n",
       "      <td>33.831261</td>\n",
       "      <td>33.226355</td>\n",
       "      <td>39.556494</td>\n",
       "      <td>39.533120</td>\n",
       "      <td>...</td>\n",
       "      <td>6.269850</td>\n",
       "      <td>0.0</td>\n",
       "      <td>0.0</td>\n",
       "      <td>0.933215</td>\n",
       "      <td>7.320124</td>\n",
       "      <td>63.279534</td>\n",
       "      <td>71.455990</td>\n",
       "      <td>0.0</td>\n",
       "      <td>0.0</td>\n",
       "      <td>0.0</td>\n",
       "      <td>9.142103</td>\n",
       "      <td>64.343567</td>\n",
       "      <td>72.941801</td>\n",
       "      <td>51.264010</td>\n",
       "      <td>7.669658</td>\n",
       "      <td>0.0</td>\n",
       "      <td>4.513328</td>\n",
       "      <td>2.612903</td>\n",
       "      <td>15.002158</td>\n",
       "      <td>1.866513</td>\n",
       "      <td>1.857086</td>\n",
       "      <td>48.356658</td>\n",
       "      <td>4.509518</td>\n",
       "      <td>0.0</td>\n",
       "      <td>0.0</td>\n",
       "      <td>7.530768</td>\n",
       "      <td>61.776639</td>\n",
       "      <td>68.716618</td>\n",
       "      <td>7.492522</td>\n",
       "      <td>3.200039</td>\n",
       "      <td>0.0</td>\n",
       "      <td>116.380215</td>\n",
       "      <td>6.600429e+01</td>\n",
       "      <td>1.251552</td>\n",
       "      <td>0.790539</td>\n",
       "      <td>58.209723</td>\n",
       "      <td>0.397964</td>\n",
       "      <td>3.021797</td>\n",
       "      <td>5.794418</td>\n",
       "      <td>6.642602e+05</td>\n",
       "    </tr>\n",
       "    <tr>\n",
       "      <th>min</th>\n",
       "      <td>-97.000000</td>\n",
       "      <td>100.0</td>\n",
       "      <td>100.0</td>\n",
       "      <td>100.0</td>\n",
       "      <td>-97.000000</td>\n",
       "      <td>-98.000000</td>\n",
       "      <td>-99.000000</td>\n",
       "      <td>-98.000000</td>\n",
       "      <td>-98.000000</td>\n",
       "      <td>-99.000000</td>\n",
       "      <td>-101.000000</td>\n",
       "      <td>-101.000000</td>\n",
       "      <td>-98.000000</td>\n",
       "      <td>-98.000000</td>\n",
       "      <td>-101.000000</td>\n",
       "      <td>-99.000000</td>\n",
       "      <td>-98.000000</td>\n",
       "      <td>-98.000000</td>\n",
       "      <td>-99.000000</td>\n",
       "      <td>-99.000000</td>\n",
       "      <td>-98.000000</td>\n",
       "      <td>-98.000000</td>\n",
       "      <td>-100.000000</td>\n",
       "      <td>-99.000000</td>\n",
       "      <td>-98.000000</td>\n",
       "      <td>-98.000000</td>\n",
       "      <td>-99.000000</td>\n",
       "      <td>-98.000000</td>\n",
       "      <td>-98.000000</td>\n",
       "      <td>-99.000000</td>\n",
       "      <td>-99.000000</td>\n",
       "      <td>-101.000000</td>\n",
       "      <td>-98.000000</td>\n",
       "      <td>-98.000000</td>\n",
       "      <td>-100.000000</td>\n",
       "      <td>-98.000000</td>\n",
       "      <td>-98.000000</td>\n",
       "      <td>-98.000000</td>\n",
       "      <td>-100.000000</td>\n",
       "      <td>-98.000000</td>\n",
       "      <td>...</td>\n",
       "      <td>-96.000000</td>\n",
       "      <td>100.0</td>\n",
       "      <td>100.0</td>\n",
       "      <td>1.000000</td>\n",
       "      <td>-97.000000</td>\n",
       "      <td>-100.000000</td>\n",
       "      <td>-101.000000</td>\n",
       "      <td>100.0</td>\n",
       "      <td>100.0</td>\n",
       "      <td>100.0</td>\n",
       "      <td>-97.000000</td>\n",
       "      <td>-101.000000</td>\n",
       "      <td>-97.000000</td>\n",
       "      <td>-102.000000</td>\n",
       "      <td>-99.000000</td>\n",
       "      <td>100.0</td>\n",
       "      <td>-97.000000</td>\n",
       "      <td>-97.000000</td>\n",
       "      <td>-97.000000</td>\n",
       "      <td>-98.000000</td>\n",
       "      <td>-97.000000</td>\n",
       "      <td>-103.000000</td>\n",
       "      <td>-97.000000</td>\n",
       "      <td>100.0</td>\n",
       "      <td>100.0</td>\n",
       "      <td>-97.000000</td>\n",
       "      <td>-101.000000</td>\n",
       "      <td>-101.000000</td>\n",
       "      <td>-97.000000</td>\n",
       "      <td>-97.000000</td>\n",
       "      <td>100.0</td>\n",
       "      <td>-7691.338400</td>\n",
       "      <td>4.864746e+06</td>\n",
       "      <td>0.000000</td>\n",
       "      <td>0.000000</td>\n",
       "      <td>2.000000</td>\n",
       "      <td>1.000000</td>\n",
       "      <td>2.000000</td>\n",
       "      <td>1.000000</td>\n",
       "      <td>1.369909e+09</td>\n",
       "    </tr>\n",
       "    <tr>\n",
       "      <th>25%</th>\n",
       "      <td>100.000000</td>\n",
       "      <td>100.0</td>\n",
       "      <td>100.0</td>\n",
       "      <td>100.0</td>\n",
       "      <td>100.000000</td>\n",
       "      <td>100.000000</td>\n",
       "      <td>100.000000</td>\n",
       "      <td>100.000000</td>\n",
       "      <td>100.000000</td>\n",
       "      <td>100.000000</td>\n",
       "      <td>100.000000</td>\n",
       "      <td>100.000000</td>\n",
       "      <td>100.000000</td>\n",
       "      <td>100.000000</td>\n",
       "      <td>100.000000</td>\n",
       "      <td>100.000000</td>\n",
       "      <td>100.000000</td>\n",
       "      <td>100.000000</td>\n",
       "      <td>100.000000</td>\n",
       "      <td>100.000000</td>\n",
       "      <td>100.000000</td>\n",
       "      <td>100.000000</td>\n",
       "      <td>100.000000</td>\n",
       "      <td>100.000000</td>\n",
       "      <td>100.000000</td>\n",
       "      <td>100.000000</td>\n",
       "      <td>100.000000</td>\n",
       "      <td>100.000000</td>\n",
       "      <td>100.000000</td>\n",
       "      <td>100.000000</td>\n",
       "      <td>100.000000</td>\n",
       "      <td>100.000000</td>\n",
       "      <td>100.000000</td>\n",
       "      <td>100.000000</td>\n",
       "      <td>100.000000</td>\n",
       "      <td>100.000000</td>\n",
       "      <td>100.000000</td>\n",
       "      <td>100.000000</td>\n",
       "      <td>100.000000</td>\n",
       "      <td>100.000000</td>\n",
       "      <td>...</td>\n",
       "      <td>100.000000</td>\n",
       "      <td>100.0</td>\n",
       "      <td>100.0</td>\n",
       "      <td>100.000000</td>\n",
       "      <td>100.000000</td>\n",
       "      <td>100.000000</td>\n",
       "      <td>100.000000</td>\n",
       "      <td>100.0</td>\n",
       "      <td>100.0</td>\n",
       "      <td>100.0</td>\n",
       "      <td>100.000000</td>\n",
       "      <td>100.000000</td>\n",
       "      <td>100.000000</td>\n",
       "      <td>100.000000</td>\n",
       "      <td>100.000000</td>\n",
       "      <td>100.0</td>\n",
       "      <td>100.000000</td>\n",
       "      <td>100.000000</td>\n",
       "      <td>100.000000</td>\n",
       "      <td>100.000000</td>\n",
       "      <td>100.000000</td>\n",
       "      <td>100.000000</td>\n",
       "      <td>100.000000</td>\n",
       "      <td>100.0</td>\n",
       "      <td>100.0</td>\n",
       "      <td>100.000000</td>\n",
       "      <td>100.000000</td>\n",
       "      <td>100.000000</td>\n",
       "      <td>100.000000</td>\n",
       "      <td>100.000000</td>\n",
       "      <td>100.0</td>\n",
       "      <td>-7541.168800</td>\n",
       "      <td>4.864814e+06</td>\n",
       "      <td>1.000000</td>\n",
       "      <td>1.000000</td>\n",
       "      <td>112.000000</td>\n",
       "      <td>2.000000</td>\n",
       "      <td>6.000000</td>\n",
       "      <td>8.000000</td>\n",
       "      <td>1.371714e+09</td>\n",
       "    </tr>\n",
       "    <tr>\n",
       "      <th>50%</th>\n",
       "      <td>100.000000</td>\n",
       "      <td>100.0</td>\n",
       "      <td>100.0</td>\n",
       "      <td>100.0</td>\n",
       "      <td>100.000000</td>\n",
       "      <td>100.000000</td>\n",
       "      <td>100.000000</td>\n",
       "      <td>100.000000</td>\n",
       "      <td>100.000000</td>\n",
       "      <td>100.000000</td>\n",
       "      <td>100.000000</td>\n",
       "      <td>100.000000</td>\n",
       "      <td>100.000000</td>\n",
       "      <td>100.000000</td>\n",
       "      <td>100.000000</td>\n",
       "      <td>100.000000</td>\n",
       "      <td>100.000000</td>\n",
       "      <td>100.000000</td>\n",
       "      <td>100.000000</td>\n",
       "      <td>100.000000</td>\n",
       "      <td>100.000000</td>\n",
       "      <td>100.000000</td>\n",
       "      <td>100.000000</td>\n",
       "      <td>100.000000</td>\n",
       "      <td>100.000000</td>\n",
       "      <td>100.000000</td>\n",
       "      <td>100.000000</td>\n",
       "      <td>100.000000</td>\n",
       "      <td>100.000000</td>\n",
       "      <td>100.000000</td>\n",
       "      <td>100.000000</td>\n",
       "      <td>100.000000</td>\n",
       "      <td>100.000000</td>\n",
       "      <td>100.000000</td>\n",
       "      <td>100.000000</td>\n",
       "      <td>100.000000</td>\n",
       "      <td>100.000000</td>\n",
       "      <td>100.000000</td>\n",
       "      <td>100.000000</td>\n",
       "      <td>100.000000</td>\n",
       "      <td>...</td>\n",
       "      <td>100.000000</td>\n",
       "      <td>100.0</td>\n",
       "      <td>100.0</td>\n",
       "      <td>100.000000</td>\n",
       "      <td>100.000000</td>\n",
       "      <td>100.000000</td>\n",
       "      <td>100.000000</td>\n",
       "      <td>100.0</td>\n",
       "      <td>100.0</td>\n",
       "      <td>100.0</td>\n",
       "      <td>100.000000</td>\n",
       "      <td>100.000000</td>\n",
       "      <td>100.000000</td>\n",
       "      <td>100.000000</td>\n",
       "      <td>100.000000</td>\n",
       "      <td>100.0</td>\n",
       "      <td>100.000000</td>\n",
       "      <td>100.000000</td>\n",
       "      <td>100.000000</td>\n",
       "      <td>100.000000</td>\n",
       "      <td>100.000000</td>\n",
       "      <td>100.000000</td>\n",
       "      <td>100.000000</td>\n",
       "      <td>100.0</td>\n",
       "      <td>100.0</td>\n",
       "      <td>100.000000</td>\n",
       "      <td>100.000000</td>\n",
       "      <td>100.000000</td>\n",
       "      <td>100.000000</td>\n",
       "      <td>100.000000</td>\n",
       "      <td>100.0</td>\n",
       "      <td>-7410.692300</td>\n",
       "      <td>4.864846e+06</td>\n",
       "      <td>2.000000</td>\n",
       "      <td>2.000000</td>\n",
       "      <td>133.000000</td>\n",
       "      <td>2.000000</td>\n",
       "      <td>9.000000</td>\n",
       "      <td>13.000000</td>\n",
       "      <td>1.371717e+09</td>\n",
       "    </tr>\n",
       "    <tr>\n",
       "      <th>75%</th>\n",
       "      <td>100.000000</td>\n",
       "      <td>100.0</td>\n",
       "      <td>100.0</td>\n",
       "      <td>100.0</td>\n",
       "      <td>100.000000</td>\n",
       "      <td>100.000000</td>\n",
       "      <td>100.000000</td>\n",
       "      <td>100.000000</td>\n",
       "      <td>100.000000</td>\n",
       "      <td>100.000000</td>\n",
       "      <td>100.000000</td>\n",
       "      <td>100.000000</td>\n",
       "      <td>100.000000</td>\n",
       "      <td>100.000000</td>\n",
       "      <td>100.000000</td>\n",
       "      <td>100.000000</td>\n",
       "      <td>100.000000</td>\n",
       "      <td>100.000000</td>\n",
       "      <td>100.000000</td>\n",
       "      <td>100.000000</td>\n",
       "      <td>100.000000</td>\n",
       "      <td>100.000000</td>\n",
       "      <td>100.000000</td>\n",
       "      <td>100.000000</td>\n",
       "      <td>100.000000</td>\n",
       "      <td>100.000000</td>\n",
       "      <td>100.000000</td>\n",
       "      <td>100.000000</td>\n",
       "      <td>100.000000</td>\n",
       "      <td>100.000000</td>\n",
       "      <td>100.000000</td>\n",
       "      <td>100.000000</td>\n",
       "      <td>100.000000</td>\n",
       "      <td>100.000000</td>\n",
       "      <td>100.000000</td>\n",
       "      <td>100.000000</td>\n",
       "      <td>100.000000</td>\n",
       "      <td>100.000000</td>\n",
       "      <td>100.000000</td>\n",
       "      <td>100.000000</td>\n",
       "      <td>...</td>\n",
       "      <td>100.000000</td>\n",
       "      <td>100.0</td>\n",
       "      <td>100.0</td>\n",
       "      <td>100.000000</td>\n",
       "      <td>100.000000</td>\n",
       "      <td>100.000000</td>\n",
       "      <td>100.000000</td>\n",
       "      <td>100.0</td>\n",
       "      <td>100.0</td>\n",
       "      <td>100.0</td>\n",
       "      <td>100.000000</td>\n",
       "      <td>100.000000</td>\n",
       "      <td>100.000000</td>\n",
       "      <td>100.000000</td>\n",
       "      <td>100.000000</td>\n",
       "      <td>100.0</td>\n",
       "      <td>100.000000</td>\n",
       "      <td>100.000000</td>\n",
       "      <td>100.000000</td>\n",
       "      <td>100.000000</td>\n",
       "      <td>100.000000</td>\n",
       "      <td>100.000000</td>\n",
       "      <td>100.000000</td>\n",
       "      <td>100.0</td>\n",
       "      <td>100.0</td>\n",
       "      <td>100.000000</td>\n",
       "      <td>100.000000</td>\n",
       "      <td>100.000000</td>\n",
       "      <td>100.000000</td>\n",
       "      <td>100.000000</td>\n",
       "      <td>100.0</td>\n",
       "      <td>-7356.978100</td>\n",
       "      <td>4.864913e+06</td>\n",
       "      <td>3.000000</td>\n",
       "      <td>2.000000</td>\n",
       "      <td>209.000000</td>\n",
       "      <td>2.000000</td>\n",
       "      <td>11.000000</td>\n",
       "      <td>14.000000</td>\n",
       "      <td>1.371721e+09</td>\n",
       "    </tr>\n",
       "    <tr>\n",
       "      <th>max</th>\n",
       "      <td>100.000000</td>\n",
       "      <td>100.0</td>\n",
       "      <td>100.0</td>\n",
       "      <td>100.0</td>\n",
       "      <td>100.000000</td>\n",
       "      <td>100.000000</td>\n",
       "      <td>100.000000</td>\n",
       "      <td>100.000000</td>\n",
       "      <td>100.000000</td>\n",
       "      <td>100.000000</td>\n",
       "      <td>100.000000</td>\n",
       "      <td>100.000000</td>\n",
       "      <td>100.000000</td>\n",
       "      <td>100.000000</td>\n",
       "      <td>100.000000</td>\n",
       "      <td>100.000000</td>\n",
       "      <td>100.000000</td>\n",
       "      <td>100.000000</td>\n",
       "      <td>100.000000</td>\n",
       "      <td>100.000000</td>\n",
       "      <td>100.000000</td>\n",
       "      <td>100.000000</td>\n",
       "      <td>100.000000</td>\n",
       "      <td>100.000000</td>\n",
       "      <td>100.000000</td>\n",
       "      <td>100.000000</td>\n",
       "      <td>100.000000</td>\n",
       "      <td>100.000000</td>\n",
       "      <td>100.000000</td>\n",
       "      <td>100.000000</td>\n",
       "      <td>100.000000</td>\n",
       "      <td>100.000000</td>\n",
       "      <td>100.000000</td>\n",
       "      <td>100.000000</td>\n",
       "      <td>100.000000</td>\n",
       "      <td>100.000000</td>\n",
       "      <td>100.000000</td>\n",
       "      <td>100.000000</td>\n",
       "      <td>100.000000</td>\n",
       "      <td>100.000000</td>\n",
       "      <td>...</td>\n",
       "      <td>100.000000</td>\n",
       "      <td>100.0</td>\n",
       "      <td>100.0</td>\n",
       "      <td>100.000000</td>\n",
       "      <td>100.000000</td>\n",
       "      <td>100.000000</td>\n",
       "      <td>100.000000</td>\n",
       "      <td>100.0</td>\n",
       "      <td>100.0</td>\n",
       "      <td>100.0</td>\n",
       "      <td>100.000000</td>\n",
       "      <td>100.000000</td>\n",
       "      <td>100.000000</td>\n",
       "      <td>100.000000</td>\n",
       "      <td>100.000000</td>\n",
       "      <td>100.0</td>\n",
       "      <td>100.000000</td>\n",
       "      <td>100.000000</td>\n",
       "      <td>100.000000</td>\n",
       "      <td>100.000000</td>\n",
       "      <td>100.000000</td>\n",
       "      <td>100.000000</td>\n",
       "      <td>100.000000</td>\n",
       "      <td>100.0</td>\n",
       "      <td>100.0</td>\n",
       "      <td>100.000000</td>\n",
       "      <td>100.000000</td>\n",
       "      <td>100.000000</td>\n",
       "      <td>100.000000</td>\n",
       "      <td>100.000000</td>\n",
       "      <td>100.0</td>\n",
       "      <td>-7300.818990</td>\n",
       "      <td>4.865017e+06</td>\n",
       "      <td>4.000000</td>\n",
       "      <td>2.000000</td>\n",
       "      <td>254.000000</td>\n",
       "      <td>2.000000</td>\n",
       "      <td>16.000000</td>\n",
       "      <td>23.000000</td>\n",
       "      <td>1.371738e+09</td>\n",
       "    </tr>\n",
       "  </tbody>\n",
       "</table>\n",
       "<p>8 rows × 529 columns</p>\n",
       "</div>"
      ],
      "text/plain": [
       "             WAP001   WAP002   WAP003  ...        USERID       PHONEID     TIMESTAMP\n",
       "count  11254.000000  11254.0  11254.0  ...  11253.000000  11253.000000  1.125300e+04\n",
       "mean      99.739559    100.0    100.0  ...      8.100684     12.455523  1.371383e+09\n",
       "std        7.129414      0.0      0.0  ...      3.021797      5.794418  6.642602e+05\n",
       "min      -97.000000    100.0    100.0  ...      2.000000      1.000000  1.369909e+09\n",
       "25%      100.000000    100.0    100.0  ...      6.000000      8.000000  1.371714e+09\n",
       "50%      100.000000    100.0    100.0  ...      9.000000     13.000000  1.371717e+09\n",
       "75%      100.000000    100.0    100.0  ...     11.000000     14.000000  1.371721e+09\n",
       "max      100.000000    100.0    100.0  ...     16.000000     23.000000  1.371738e+09\n",
       "\n",
       "[8 rows x 529 columns]"
      ]
     },
     "execution_count": 18,
     "metadata": {
      "tags": []
     },
     "output_type": "execute_result"
    }
   ],
   "source": [
    "df_tr.describe()"
   ]
  },
  {
   "cell_type": "code",
   "execution_count": 0,
   "metadata": {
    "colab": {
     "base_uri": "https://localhost:8080/",
     "height": 123
    },
    "colab_type": "code",
    "id": "AHD4CkdC4erg",
    "outputId": "0bb51f7d-c0ee-4c42-c170-43f24001b16d"
   },
   "outputs": [
    {
     "name": "stdout",
     "output_type": "stream",
     "text": [
      "Index(['WAP001', 'WAP002', 'WAP003', 'WAP004', 'WAP005', 'WAP006', 'WAP007',\n",
      "       'WAP008', 'WAP009', 'WAP010',\n",
      "       ...\n",
      "       'WAP520', 'LONGITUDE', 'LATITUDE', 'FLOOR', 'BUILDINGID', 'SPACEID',\n",
      "       'RELATIVEPOSITION', 'USERID', 'PHONEID', 'TIMESTAMP'],\n",
      "      dtype='object', length=529)\n"
     ]
    }
   ],
   "source": [
    "print(df_tr.columns)"
   ]
  },
  {
   "cell_type": "code",
   "execution_count": 4,
   "metadata": {
    "colab": {
     "base_uri": "https://localhost:8080/",
     "height": 34
    },
    "colab_type": "code",
    "id": "-cmvVVTLwQeM",
    "outputId": "96d972d3-41f6-469d-e29d-d7d39cae074e"
   },
   "outputs": [
    {
     "name": "stdout",
     "output_type": "stream",
     "text": [
      "Index(['LONGITUDE', 'LATITUDE', 'WAP254'], dtype='object')\n"
     ]
    }
   ],
   "source": [
    "df = shuffle(df_tr.append(df_val), random_state=0)\n",
    "\n",
    "target_labels = [520,521,253]\n",
    "# Indices del 1 al 259 sin los indices del target\n",
    "attribute_labels = [l for l in range(len(df.columns)) if l not in target_labels]\n",
    "\n",
    "target_cols =  df.columns[target_labels] \n",
    "print(target_cols)"
   ]
  },
  {
   "cell_type": "code",
   "execution_count": 5,
   "metadata": {
    "colab": {},
    "colab_type": "code",
    "id": "bA2hmuz_Nl0D"
   },
   "outputs": [],
   "source": [
    "# Para eliminar PHONEID ya que se pasará a categorical\n",
    "phone_index = list(df.columns).index('PHONEID')\n",
    "attribute_labels.remove(phone_index)"
   ]
  },
  {
   "cell_type": "code",
   "execution_count": 6,
   "metadata": {
    "colab": {},
    "colab_type": "code",
    "id": "fQPLG3EQNl0G"
   },
   "outputs": [],
   "source": [
    "attribute_cols = df.columns[attribute_labels]\n",
    "\n",
    "x_un = pd.get_dummies(df.PHONEID)\n",
    "categorical_columns = x_un.columns\n",
    "x_un[attribute_cols] = df[attribute_cols]\n",
    "\n",
    "y_u = df[target_cols]"
   ]
  },
  {
   "cell_type": "markdown",
   "metadata": {
    "colab_type": "text",
    "id": "e05d8tJSwQeP"
   },
   "source": [
    "Separe los datos a partir de su índice, dejando un 80% de datos en el _train set_ y un 20% de validación. \n",
    "¿Por qué no es mala idea en este caso separar los datos a partir de su índice? ¿Qué problema podría tenerse en caso de no haber hecho `shuffle` al momento de cargar los datos? \n"
   ]
  },
  {
   "cell_type": "code",
   "execution_count": 7,
   "metadata": {
    "colab": {},
    "colab_type": "code",
    "id": "0PYADokVwQeQ"
   },
   "outputs": [],
   "source": [
    "porcentaje_sep = 0.8\n",
    "indice_sep = math.floor(x_un.shape[0]*0.8)\n",
    "\n",
    "x_tr_un = x_un.iloc[0:indice_sep]\n",
    "x_val_un = x_un.iloc[indice_sep:]\n",
    "\n",
    "y_tr_u = y_u.iloc[0:indice_sep]\n",
    "y_val_u = y_u.iloc[indice_sep:]"
   ]
  },
  {
   "cell_type": "markdown",
   "metadata": {
    "colab_type": "text",
    "id": "9ORfqu_4Nl0R"
   },
   "source": [
    "**Comentario**: En caso de no haber hecho shuffle podríamos estar sesgando los sets de training y de validación, en caso de que los datos vinieran ordenados de cierta manera en especifico. Ejemplo: que vinieran ordenados por ubucación, o por fuente de la que se obtuvieron los datos."
   ]
  },
  {
   "cell_type": "markdown",
   "metadata": {
    "colab_type": "text",
    "id": "WB6Fs1JuwQeT"
   },
   "source": [
    "#### 1.b Estandarización de los datos\n",
    "\n",
    "Utilice _Standar Scaler_ para los atributos no categóricos y para los datos categóricos simplemente sustraiga 0.5, como muestra el código. ¿Tiene realmente sentido estandarizar los datos categóricos (binarios) o le parece mejor la aproximación elegida?\n",
    "\n",
    "Estandarice igualmente el _target_. Cabe mencionar que la tercera componente del target es el piso en el que se encuentra, variable categórica, preferiremos utilizarla como variable continua para ver que tan bien nuestros algoritmos pueden aproximar la ubicación y para facilitar la comparación de distintos modelos. "
   ]
  },
  {
   "cell_type": "code",
   "execution_count": 8,
   "metadata": {
    "colab": {},
    "colab_type": "code",
    "id": "GIcx7V96wQeU"
   },
   "outputs": [],
   "source": [
    "scaler_x = StandardScaler()\n",
    "scaler_x.fit(x_tr_un[attribute_cols])\n",
    "\n",
    "x_tr = pd.np.concatenate((scaler_x.transform(x_tr_un[attribute_cols]), x_tr_un[categorical_columns].values-0.5), axis=1)\n",
    "x_val = pd.np.concatenate((scaler_x.transform(x_val_un[attribute_cols]), x_val_un[categorical_columns].values-0.5), axis=1)\n",
    "\n",
    "scaler_y = StandardScaler()\n",
    "scaler_y.fit(y_tr_u)\n",
    "\n",
    "y_tr = scaler_y.transform(y_tr_u)\n",
    "y_val = scaler_y.transform(y_val_u)"
   ]
  },
  {
   "cell_type": "markdown",
   "metadata": {
    "colab_type": "text",
    "id": "I9qS4mH3wQeX"
   },
   "source": [
    "#### 1.c Primer Arbol\n",
    "Entrenaremos ahora un árbol de regresión con produndidad 3. Como métrica utilizaremos el Error Absoluto Medio o MAE a lo largo del resto de esta pregunta. ¿Qué tan bueno le parece el _score_ (coeficiente $R^2$) obtenido por el regresor?\n",
    "\n",
    "Compare el desempeño del árbol, tanto en MAE como en _score_, en validación y entrenamiento, con respecto a un regresor lineal tradicional. ¿Cómo se comparan los tiempos de entrenamiento? ¿Le parece justificado el costo adicional?"
   ]
  },
  {
   "cell_type": "code",
   "execution_count": 24,
   "metadata": {},
   "outputs": [],
   "source": [
    "from IPython.display import HTML, display\n",
    "import tabulate\n",
    "\n",
    "def display_metrics(model, name= \"\"):\n",
    "    results = list()\n",
    "    results.append([\"MEDIDA\", name])\n",
    "    mse_tr = mean_squared_error(model.predict(x_tr),y_tr)\n",
    "    mse_val = mean_squared_error(model.predict(x_val),y_val)\n",
    "    results.append([\"MSE TRAINING\",  round(mse_tr,4)])\n",
    "    results.append([\"MSE VALIDATION\",  round(mse_val,4)])\n",
    "\n",
    "    # Uniform average\n",
    "    score_tr = r2_score(model.predict(x_tr), y_tr)\n",
    "    score_val = r2_score(model.predict(x_val), y_val)\n",
    "    results.append([\"R2_SCORE TRAINING (Uniform average)\",  round(score_tr,4)])\n",
    "    results.append([\"R2_SCORE VALIDATION (Uniform average)\",  round(score_val,4)])\n",
    "\n",
    "    # Variance weighted\n",
    "    score_tr = r2_score(model.predict(x_tr), y_tr, multioutput=\"variance_weighted\")\n",
    "    score_val = r2_score(tree_model.predict(x_val), y_val, multioutput=\"variance_weighted\")\n",
    "    results.append([\"SCORE TRAINING (Variance weighted)\",  round(score_tr,4)])\n",
    "    results.append([\"SCORE VALIDATION (Variance weighted)\",  round(score_val,4)])\n",
    "\n",
    "    # Raw values\n",
    "    score_tr = r2_score(model.predict(x_tr), y_tr, multioutput=\"raw_values\")\n",
    "    score_val = r2_score(model.predict(x_val), y_val, multioutput=\"raw_values\")\n",
    "    results.append([\"SCORE TRAINING (Raw values)\",  list(map(lambda x: round(x,4), score_tr))])\n",
    "    results.append([\"SCORE VALIDATION (Raw values)\",  list(map(lambda x: round(x,4), score_val))])\n",
    "\n",
    "\n",
    "    print(tabulate.tabulate(results, headers=\"firstrow\"))\n",
    "#display(HTML(tabulate.tabulate(stump_results, tablefmt='html')))"
   ]
  },
  {
   "cell_type": "code",
   "execution_count": 9,
   "metadata": {
    "colab": {
     "base_uri": "https://localhost:8080/",
     "height": 323
    },
    "colab_type": "code",
    "id": "nR8-2IQkwQeX",
    "outputId": "9c5a712f-f284-4846-e4b3-8182928a335f"
   },
   "outputs": [
    {
     "data": {
      "text/plain": [
       "DecisionTreeRegressor(criterion='mae', max_depth=3, max_features=None,\n",
       "                      max_leaf_nodes=None, min_impurity_decrease=0.0,\n",
       "                      min_impurity_split=None, min_samples_leaf=1,\n",
       "                      min_samples_split=2, min_weight_fraction_leaf=0.0,\n",
       "                      presort=False, random_state=None, splitter='best')"
      ]
     },
     "execution_count": 9,
     "metadata": {},
     "output_type": "execute_result"
    }
   ],
   "source": [
    "tree_model = DecisionTreeRegressor(criterion='mae', max_depth=3)\n",
    "tree_model.fit(x_tr, y_tr)"
   ]
  },
  {
   "cell_type": "code",
   "execution_count": 10,
   "metadata": {
    "colab": {},
    "colab_type": "code",
    "id": "RvXwGNuoNl0d",
    "outputId": "b2c8d3af-2604-45c5-b0d8-ba59c349133a"
   },
   "outputs": [
    {
     "name": "stdout",
     "output_type": "stream",
     "text": [
      "MSE TRAINING:  0.05635002962571209\n",
      "MSE VALIDATION:  0.05190414873835466\n"
     ]
    }
   ],
   "source": [
    "mse_tr = mean_squared_error(tree_model.predict(x_tr),y_tr)\n",
    "mse_val = mean_squared_error(tree_model.predict(x_val),y_val)\n",
    "\n",
    "print(\"MSE TRAINING: \", mse_tr)\n",
    "print(\"MSE VALIDATION: \", mse_val)"
   ]
  },
  {
   "cell_type": "code",
   "execution_count": 11,
   "metadata": {
    "colab": {},
    "colab_type": "code",
    "id": "k9WQ7SHhNl0g",
    "outputId": "b276fc18-0a6a-4c78-e50f-5360483082b2"
   },
   "outputs": [
    {
     "name": "stdout",
     "output_type": "stream",
     "text": [
      "SCORE TRAINING:  0.9436499703742879\n",
      "SCORE VALIDATION:  0.9513422749313866\n"
     ]
    },
    {
     "name": "stderr",
     "output_type": "stream",
     "text": [
      "/usr/local/lib/python3.6/dist-packages/sklearn/base.py:420: FutureWarning: The default value of multioutput (not exposed in score method) will change from 'variance_weighted' to 'uniform_average' in 0.23 to keep consistent with 'metrics.r2_score'. To specify the default value manually and avoid the warning, please either call 'metrics.r2_score' directly or make a custom scorer with 'metrics.make_scorer' (the built-in scorer 'r2' uses multioutput='uniform_average').\n",
      "  \"multioutput='uniform_average').\", FutureWarning)\n",
      "/usr/local/lib/python3.6/dist-packages/sklearn/base.py:420: FutureWarning: The default value of multioutput (not exposed in score method) will change from 'variance_weighted' to 'uniform_average' in 0.23 to keep consistent with 'metrics.r2_score'. To specify the default value manually and avoid the warning, please either call 'metrics.r2_score' directly or make a custom scorer with 'metrics.make_scorer' (the built-in scorer 'r2' uses multioutput='uniform_average').\n",
      "  \"multioutput='uniform_average').\", FutureWarning)\n"
     ]
    }
   ],
   "source": [
    "# Variance weighted\n",
    "score_tr = tree_model.score(x_tr,y_tr)\n",
    "score_val = tree_model.score(x_val,y_val)\n",
    "\n",
    "print(\"SCORE TRAINING: \", score_tr)\n",
    "print(\"SCORE VALIDATION: \", score_val)"
   ]
  },
  {
   "cell_type": "code",
   "execution_count": 12,
   "metadata": {
    "colab": {},
    "colab_type": "code",
    "id": "1RyFG2SRlrML"
   },
   "outputs": [],
   "source": [
    "tree_results = list()\n",
    "tree_results.append([\"MEDIDA\", \"TREE DEPTH 3\"])\n",
    "\n",
    "# MSE\n",
    "mse_tr = mean_squared_error(tree_model.predict(x_tr),y_tr)\n",
    "mse_val = mean_squared_error(tree_model.predict(x_val),y_val)\n",
    "tree_results.append([\"MSE TRAINING\",  round(mse_tr,4)])\n",
    "tree_results.append([\"MSE VALIDATION\",  round(mse_val,4)])\n",
    "\n",
    "# Uniform average\n",
    "score_tr = r2_score(tree_model.predict(x_tr), y_tr)\n",
    "score_val = r2_score(tree_model.predict(x_val), y_val)\n",
    "tree_results.append([\"R2_SCORE TRAINING (Uniform average)\",  round(score_tr,4)])\n",
    "tree_results.append([\"R2_SCORE VALIDATION (Uniform average)\",  round(score_val,4)])\n",
    "\n",
    "# Variance weighted\n",
    "score_tr = r2_score(tree_model.predict(x_tr), y_tr, multioutput=\"variance_weighted\")\n",
    "score_val = r2_score(tree_model.predict(x_val), y_val, multioutput=\"variance_weighted\")\n",
    "tree_results.append([\"SCORE TRAINING (Variance weighted)\",  round(score_tr,4)])\n",
    "tree_results.append([\"SCORE VALIDATION (Variance weighted)\",  round(score_val,4)])\n",
    "\n",
    "# Raw values\n",
    "score_tr = r2_score(tree_model.predict(x_tr), y_tr, multioutput=\"raw_values\")\n",
    "score_val = r2_score(tree_model.predict(x_val), y_val, multioutput=\"raw_values\")\n",
    "tree_results.append([\"SCORE TRAINING (Raw values)\",  list(map(lambda x: round(x,4), score_tr))])\n",
    "tree_results.append([\"SCORE VALIDATION (Raw values)\",  list(map(lambda x: round(x,4), score_val))])"
   ]
  },
  {
   "cell_type": "code",
   "execution_count": 13,
   "metadata": {
    "colab": {},
    "colab_type": "code",
    "id": "5WGxqJW3Nl0m",
    "outputId": "9269ae88-d833-4a35-8aac-ba08f9f58e21"
   },
   "outputs": [
    {
     "name": "stdout",
     "output_type": "stream",
     "text": [
      "MEDIDA                                 TREE DEPTH 3\n",
      "-------------------------------------  ------------------------\n",
      "MSE TRAINING                           0.0564\n",
      "MSE VALIDATION                         0.0519\n",
      "R2_SCORE TRAINING (Uniform average)    0.937\n",
      "R2_SCORE VALIDATION (Uniform average)  0.9405\n",
      "SCORE TRAINING (Variance weighted)     0.9408\n",
      "SCORE VALIDATION (Variance weighted)   0.9484\n",
      "SCORE TRAINING (Raw values)            [0.957, 0.8721, 0.9818]\n",
      "SCORE VALIDATION (Raw values)          [0.9548, 0.8687, 0.9979]\n"
     ]
    }
   ],
   "source": [
    "# Display tabular de los resultados\n",
    "\n",
    "from IPython.display import HTML, display\n",
    "import tabulate\n",
    "\n",
    "print(tabulate.tabulate(tree_results, headers=\"firstrow\"))\n",
    "#display(HTML(tabulate.tabulate(stump_results, tablefmt='html')))"
   ]
  },
  {
   "cell_type": "code",
   "execution_count": 0,
   "metadata": {
    "colab": {},
    "colab_type": "code",
    "id": "gyq_sykRNl0j"
   },
   "outputs": [],
   "source": [
    "linear_model = LinearRegression()\n",
    "linear_model.fit(x_tr, y_tr)\n",
    "\n",
    "linear_results = list()\n",
    "linear_results.append([\"MEDIDA\", \"LINEAR MODEL\"])\n",
    "\n",
    "# MSE\n",
    "mse_tr = mean_squared_error(linear_model.predict(x_tr),y_tr)\n",
    "mse_val = mean_squared_error(linear_model.predict(x_val),y_val)\n",
    "linear_results.append([\"MSE TRAINING\",  round(mse_tr,4)])\n",
    "linear_results.append([\"MSE VALIDATION\",  round(mse_val,4)])\n",
    "\n",
    "# Uniform average\n",
    "score_tr = r2_score(linear_model.predict(x_tr), y_tr)\n",
    "score_val = r2_score(linear_model.predict(x_val), y_val)\n",
    "linear_results.append([\"R2_SCORE TRAINING (Uniform average)\",  round(score_tr,4)])\n",
    "linear_results.append([\"R2_SCORE VALIDATION (Uniform average)\",  round(score_val,4)])\n",
    "\n",
    "# Variance weighted\n",
    "score_tr = r2_score(linear_model.predict(x_tr), y_tr, multioutput=\"variance_weighted\")\n",
    "score_val = r2_score(linear_model.predict(x_val), y_val, multioutput=\"variance_weighted\")\n",
    "linear_results.append([\"SCORE TRAINING (Variance weighted)\",  round(score_tr,4)])\n",
    "linear_results.append([\"SCORE VALIDATION (Variance weighted)\",  round(score_val,4)])\n",
    "\n",
    "# Raw values\n",
    "score_tr = r2_score(linear_model.predict(x_tr), y_tr, multioutput=\"raw_values\")\n",
    "score_val = r2_score(linear_model.predict(x_val), y_val, multioutput=\"raw_values\")\n",
    "linear_results.append([\"SCORE TRAINING (Raw values)\",  list(map(lambda x: round(x,4), score_tr))])\n",
    "linear_results.append([\"SCORE VALIDATION (Raw values)\",  list(map(lambda x: round(x,4), score_val))])"
   ]
  },
  {
   "cell_type": "code",
   "execution_count": 0,
   "metadata": {
    "colab": {
     "base_uri": "https://localhost:8080/",
     "height": 187
    },
    "colab_type": "code",
    "id": "zjB00Kf3nHxA",
    "outputId": "f220ceed-1e5b-42f0-8e60-dc9cce81f8e3"
   },
   "outputs": [
    {
     "name": "stdout",
     "output_type": "stream",
     "text": [
      "MEDIDA                                 LINEAR MODEL\n",
      "-------------------------------------  ------------------------\n",
      "MSE TRAINING                           0.0186\n",
      "MSE VALIDATION                         8.430304145713041e+20\n",
      "R2_SCORE TRAINING (Uniform average)    0.981\n",
      "R2_SCORE VALIDATION (Uniform average)  -0.0001\n",
      "SCORE TRAINING (Variance weighted)     0.981\n",
      "SCORE VALIDATION (Variance weighted)   -0.0001\n",
      "SCORE TRAINING (Raw values)            [0.9869, 0.9733, 0.9828]\n",
      "SCORE VALIDATION (Raw values)          [-0.0002, -0.0, -0.0002]\n"
     ]
    }
   ],
   "source": [
    "# Display tabular de los resultados\n",
    "\n",
    "from IPython.display import HTML, display\n",
    "import tabulate\n",
    "\n",
    "print(tabulate.tabulate(linear_results, headers=\"firstrow\"))\n",
    "#display(HTML(tabulate.tabulate(stump_results, tablefmt='html')))"
   ]
  },
  {
   "cell_type": "markdown",
   "metadata": {},
   "source": [
    "**Comentario**: Se aprecia que el arbol tiene un error mucho mas bajo de validación, y un score mucho mayor de validacion. Se aprecia que el modelo lineal sufre de under fitting, ya que rinde bien para training y pésimo para validation. El arból de profundidad 3 parece predecir bastante bien."
   ]
  },
  {
   "cell_type": "markdown",
   "metadata": {
    "colab_type": "text",
    "id": "yov8NgRAwQea"
   },
   "source": [
    "#### 1.d _Stump_\n",
    "Entrene ahora un _Stump_ o arbol de profundidad 1. ¿Cómo cambia el error (MAE) en entrenamiento y validación con respecto al árbol de la pregunta anterior? Discuta sobre el numero de parámetros entrenables que tendrá cada modelo."
   ]
  },
  {
   "cell_type": "code",
   "execution_count": 0,
   "metadata": {
    "colab": {},
    "colab_type": "code",
    "id": "V73B1_QjwQeb",
    "outputId": "56a73bd4-e6c8-41ea-adf6-77e44aedeb8c"
   },
   "outputs": [
    {
     "data": {
      "text/plain": [
       "DecisionTreeRegressor(criterion='mae', max_depth=1, max_features=None,\n",
       "                      max_leaf_nodes=None, min_impurity_decrease=0.0,\n",
       "                      min_impurity_split=None, min_samples_leaf=1,\n",
       "                      min_samples_split=2, min_weight_fraction_leaf=0.0,\n",
       "                      presort=False, random_state=None, splitter='best')"
      ]
     },
     "execution_count": 93,
     "metadata": {
      "tags": []
     },
     "output_type": "execute_result"
    }
   ],
   "source": [
    "stump_model =  DecisionTreeRegressor(criterion='mae', max_depth=1)\n",
    "stump_model.fit(x_tr, y_tr)"
   ]
  },
  {
   "cell_type": "code",
   "execution_count": 0,
   "metadata": {
    "colab": {},
    "colab_type": "code",
    "id": "IhHOhUm2Nl0v"
   },
   "outputs": [],
   "source": [
    "# Ordenamos resultados\n",
    "\n",
    "stump_results = list()\n",
    "stump_results.append([\"MEDIDA\", \"STUMP MODEL\"])\n",
    "\n",
    "# MSE\n",
    "mse_tr = mean_squared_error(stump_model.predict(x_tr),y_tr)\n",
    "mse_val = mean_squared_error(stump_model.predict(x_val),y_val)\n",
    "stump_results.append([\"MSE TRAINING\",  round(mse_tr,4)])\n",
    "stump_results.append([\"MSE VALIDATION\",  round(mse_val,4)])\n",
    "\n",
    "# Uniform average\n",
    "score_tr = r2_score(stump_model.predict(x_tr), y_tr)\n",
    "score_val = r2_score(stump_model.predict(x_val), y_val)\n",
    "stump_results.append([\"R2_SCORE TRAINING (Uniform average)\",  round(score_tr,4)])\n",
    "stump_results.append([\"R2_SCORE VALIDATION (Uniform average)\",  round(score_val,4)])\n",
    "\n",
    "# Variance weighted\n",
    "score_tr = r2_score(stump_model.predict(x_tr), y_tr, multioutput=\"variance_weighted\")\n",
    "score_val = r2_score(stump_model.predict(x_val), y_val, multioutput=\"variance_weighted\")\n",
    "stump_results.append([\"SCORE TRAINING (Variance weighted)\",  round(score_tr,4)])\n",
    "stump_results.append([\"SCORE VALIDATION (Variance weighted)\",  round(score_val,4)])\n",
    "\n",
    "# Raw values\n",
    "score_tr = r2_score(stump_model.predict(x_tr), y_tr, multioutput=\"raw_values\")\n",
    "score_val = r2_score(stump_model.predict(x_val), y_val, multioutput=\"raw_values\")\n",
    "stump_results.append([\"SCORE TRAINING (Raw values)\",  list(map(lambda x: round(x,4), score_tr))])\n",
    "stump_results.append([\"SCORE VALIDATION (Raw values)\",  list(map(lambda x: round(x,4), score_val))])"
   ]
  },
  {
   "cell_type": "code",
   "execution_count": 0,
   "metadata": {
    "colab": {},
    "colab_type": "code",
    "id": "1W3rb6OTNl0y",
    "outputId": "c86fa4f4-c37e-4add-f124-5d9b49f8dee6",
    "scrolled": true
   },
   "outputs": [
    {
     "name": "stdout",
     "output_type": "stream",
     "text": [
      "MEDIDA                                 STUMP MODEL\n",
      "-------------------------------------  -----------------------------------------\n",
      "MSE TRAINING                           0.5668\n",
      "MSE VALIDATION                         0.7462\n",
      "R2_SCORE TRAINING (Uniform average)    -1.9825959122625624e+27\n",
      "R2_SCORE VALIDATION (Uniform average)  -3.457307632128715e+28\n",
      "SCORE TRAINING (Variance weighted)     -0.078\n",
      "SCORE VALIDATION (Variance weighted)   -0.4117\n",
      "SCORE TRAINING (Raw values)            [0.6525, 0.4446, -5.947787736787687e+27]\n",
      "SCORE VALIDATION (Raw values)          [0.6567, 0.4398, -1.0371922896386145e+29]\n"
     ]
    }
   ],
   "source": [
    "# Display tabular de los resultados\n",
    "\n",
    "from IPython.display import HTML, display\n",
    "import tabulate\n",
    "\n",
    "print(tabulate.tabulate(stump_results,  headers=\"firstrow\"))\n",
    "#display(HTML(tabulate.tabulate(stump_results, tablefmt='html')))"
   ]
  },
  {
   "cell_type": "markdown",
   "metadata": {},
   "source": [
    "**Comentario**: Este modelo lo hace mejor que el modelo linea, pero tiene un score pésimo. Por lo tanto es peor que el arbol de profundidad 3. Sufré de underfitting, ya que no posee los suficientes parámetros para predecir bien el problema."
   ]
  },
  {
   "cell_type": "markdown",
   "metadata": {
    "colab_type": "text",
    "id": "MeAXtKh4wQee"
   },
   "source": [
    "#### 1.e Profundidad máxima\n",
    "Explore distintos valores de la profundidad máxima del árbol. Para esto, realice K-fold sobre al menos 10 valores distintos de la profundidad del árbol y compare el promedio de los MAE de validación. También guarde los promedios de MAE de _train_ y grafique como estos varían a medida varia la profundidad máxima. Idealmente debería considerar un rango entre profundidad máxima 1 y 20. Note que este paso puede resultar largo en tiempo de cómputo, podría ser recomendable correrlo en _Collab_ en caso de tener máquinas más lentas. \n",
    "\n",
    "Finalmente, entrene el arbol con profundidad óptima sobre todos los datos de entrenamiento y calcule su MAE sobre validación. ¿Mejoramos el desempeño obtenido anteriormente con los árboles sin sintonizar? "
   ]
  },
  {
   "cell_type": "markdown",
   "metadata": {
    "colab_type": "text",
    "id": "FUvnntNDNl07"
   },
   "source": [
    "Primero que nada, como el cómputo puede que demore bastante, creamos algunas funciones para mostrar una barra de progreso."
   ]
  },
  {
   "cell_type": "code",
   "execution_count": 14,
   "metadata": {
    "colab": {},
    "colab_type": "code",
    "id": "iIFZO4-ENl09"
   },
   "outputs": [],
   "source": [
    "# Auxiliares para mostrar progreso \n",
    "\n",
    "import time, sys\n",
    "from IPython.display import clear_output\n",
    "\n",
    "def update_progress(progress):\n",
    "    bar_length = 20\n",
    "    if isinstance(progress, int):\n",
    "        progress = float(progress)\n",
    "    if not isinstance(progress, float):\n",
    "        progress = 0\n",
    "    if progress < 0:\n",
    "        progress = 0\n",
    "    if progress >= 1:\n",
    "        progress = 1\n",
    "\n",
    "    block = int(round(bar_length * progress))\n",
    "\n",
    "    clear_output(wait = True)\n",
    "    text = \"Progress: [{0}] {1:.1f}%\".format( \"#\" * block + \"-\" * (bar_length - block), progress * 100)\n",
    "    print(text)"
   ]
  },
  {
   "cell_type": "code",
   "execution_count": 0,
   "metadata": {
    "colab": {
     "base_uri": "https://localhost:8080/",
     "height": 34
    },
    "colab_type": "code",
    "id": "XpKAd2NQNl1E",
    "outputId": "7731e253-fa6f-4485-c4b7-460251a83139"
   },
   "outputs": [
    {
     "name": "stdout",
     "output_type": "stream",
     "text": [
      "KFold(n_splits=5, random_state=None, shuffle=False)\n"
     ]
    }
   ],
   "source": [
    "from sklearn.model_selection import KFold\n",
    "\n",
    "X_tr_kfold = pd.np.concatenate((x_tr, x_val))\n",
    "y_tr_kfold = pd.np.concatenate((y_tr, y_val))\n",
    "kf = KFold(n_splits=5)\n",
    "print(kf)"
   ]
  },
  {
   "cell_type": "code",
   "execution_count": 0,
   "metadata": {
    "colab": {
     "base_uri": "https://localhost:8080/",
     "height": 34
    },
    "colab_type": "code",
    "id": "8eztKFUdNl1H",
    "outputId": "6e7d6a05-244d-4258-85d6-fc6e11c81360"
   },
   "outputs": [
    {
     "name": "stdout",
     "output_type": "stream",
     "text": [
      "Progress: [####################] 100.0%\n"
     ]
    }
   ],
   "source": [
    "depth_values = list(range(2,12))\n",
    "scores_by_depth_tr = list()\n",
    "scores_by_depth_val = list()\n",
    "errors_by_depth_tr = list()\n",
    "errors_by_depth_val = list()\n",
    "\n",
    "for i in range(len(depth_values)):\n",
    "    update_progress(i / len(depth_values))\n",
    "    depth_i = depth_values[i]\n",
    "    fold_scores_tr = list()\n",
    "    fold_scores_val = list()\n",
    "    fold_errors_tr = list()\n",
    "    fold_errors_val = list()\n",
    "    for train_index, test_index in kf.split(X_tr_kfold):       \n",
    "        X_train_cross, X_test_cross = X_tr_kfold[train_index,:], X_tr_kfold[test_index,:]\n",
    "        y_train_cross, y_test_cross = y_tr_kfold[train_index,:], y_tr_kfold[test_index,:]\n",
    "\n",
    "        # Entreno del modelo\n",
    "        kfold_model = DecisionTreeRegressor(criterion='mae', max_depth=depth_i)\n",
    "        kfold_model.fit(X_train_cross, y_train_cross)\n",
    "        \n",
    "        # Training Error\n",
    "        error_tr = mean_squared_error(kfold_model.predict(X_train_cross), y_train_cross)\n",
    "        # Validation Error\n",
    "        error_val = mean_squared_error(kfold_model.predict(X_test_cross), y_test_cross)\n",
    "        # Training Score \n",
    "        score_tr = r2_score(kfold_model.predict(x_tr), y_tr)\n",
    "        # Validation Score\n",
    "        score_val = r2_score(kfold_model.predict(x_val), y_val)\n",
    "        \n",
    "        # Guardar resultados de este fold\n",
    "        fold_errors_tr.append(error_tr)\n",
    "        fold_errors_val.append(error_val)\n",
    "        fold_scores_tr.append(score_tr)\n",
    "        fold_scores_val.append(score_val)\n",
    "   \n",
    "    errors_by_depth_tr.append((sum(fold_errors_tr)/len(fold_errors_tr)))\n",
    "    errors_by_depth_val.append((sum(fold_errors_val)/len(fold_errors_val)))\n",
    "    scores_by_depth_tr.append((sum(fold_scores_tr)/len(fold_scores_tr)))\n",
    "    scores_by_depth_val.append((sum(fold_scores_val)/len(fold_scores_val)))\n",
    "\n",
    "update_progress(1)"
   ]
  },
  {
   "cell_type": "code",
   "execution_count": 0,
   "metadata": {
    "colab": {
     "base_uri": "https://localhost:8080/",
     "height": 105
    },
    "colab_type": "code",
    "id": "G8Jy0Fr4Nl1L",
    "outputId": "128087d4-fe7e-4759-b6eb-857dcc8faf8a"
   },
   "outputs": [
    {
     "name": "stdout",
     "output_type": "stream",
     "text": [
      "[-1.2909829791566681e+29, 0.9371677568935171, 0.96129511683201, 0.9765793102198602, 0.9830584442277688, 0.9861379278779767, 0.9889161905817094, 0.9918400397246547, 0.9925019107631684, 0.9949074518233276]\n",
      "[-1.9744322767595455e+29, 0.941000489305311, 0.9666211675032821, 0.9775338200497974, 0.9837694934594706, 0.9881777091890112, 0.9908222533347608, 0.9927058773631174, 0.9945951688350281, 0.9962944620251436]\n",
      "[0.4445343822131084, 0.0553958862176551, 0.036428521858397095, 0.021634408868292453, 0.015371758259827204, 0.011314859357878026, 0.008560979854644383, 0.006739373452331688, 0.004942154389974705, 0.0034865177487927125]\n",
      "[0.4445666049389702, 0.05552117215069572, 0.03648920741364901, 0.026569636389113648, 0.020726737529682727, 0.021084159894038362, 0.018705554246377515, 0.0127285146783707, 0.01539769932617605, 0.010084422559150213]\n"
     ]
    }
   ],
   "source": [
    "print(scores_by_depth_tr)\n",
    "print(scores_by_depth_val)\n",
    "print(errors_by_depth_tr)\n",
    "print(errors_by_depth_val)"
   ]
  },
  {
   "cell_type": "code",
   "execution_count": 0,
   "metadata": {
    "colab": {},
    "colab_type": "code",
    "id": "62W3Uisurkhn"
   },
   "outputs": [],
   "source": [
    "scores_by_depth_tr = [-1.2909829791566681e+29, 0.9371677568935171, 0.96129511683201, 0.9765793102198602, 0.9830584442277688, 0.9861379278779767, 0.9889161905817094, 0.9918400397246547, 0.9925019107631684, 0.9949074518233276]\n",
    "scores_by_depth_val = [-1.9744322767595455e+29, 0.941000489305311, 0.9666211675032821, 0.9775338200497974, 0.9837694934594706, 0.9881777091890112, 0.9908222533347608, 0.9927058773631174, 0.9945951688350281, 0.9962944620251436]\n",
    "errors_by_depth_tr = [0.4445343822131084, 0.0553958862176551, 0.036428521858397095, 0.021634408868292453, 0.015371758259827204, 0.011314859357878026, 0.008560979854644383, 0.006739373452331688, 0.004942154389974705, 0.0034865177487927125]\n",
    "errors_by_depth_val =[0.4445666049389702, 0.05552117215069572, 0.03648920741364901, 0.026569636389113648, 0.020726737529682727, 0.021084159894038362, 0.018705554246377515, 0.0127285146783707, 0.01539769932617605, 0.010084422559150213]"
   ]
  },
  {
   "cell_type": "code",
   "execution_count": 8,
   "metadata": {
    "colab": {
     "base_uri": "https://localhost:8080/",
     "height": 1000
    },
    "colab_type": "code",
    "id": "uj3QeqoVk7lG",
    "outputId": "a5f0f3f1-25dd-4d1a-a338-fdbff81b9aa3"
   },
   "outputs": [
    {
     "data": {
      "image/png": "[encoded data removed]",
      "text/plain": [
       "<Figure size 720x360 with 1 Axes>"
      ]
     },
     "metadata": {
      "tags": []
     },
     "output_type": "display_data"
    },
    {
     "data": {
      "image/png": "[encoded data removed]",
      "text/plain": [
       "<Figure size 720x360 with 1 Axes>"
      ]
     },
     "metadata": {
      "tags": []
     },
     "output_type": "display_data"
    },
    {
     "data": {
      "image/png": "[encoded data removed]",
      "text/plain": [
       "<Figure size 720x360 with 1 Axes>"
      ]
     },
     "metadata": {
      "tags": []
     },
     "output_type": "display_data"
    }
   ],
   "source": [
    "import matplotlib.pyplot as plt\n",
    "depths = range(1,11)\n",
    "\n",
    "plt.figure(figsize=(10,5))    \n",
    "plt.plot( depths, scores_by_depth_val, label=\"Validation\") \n",
    "plt.plot( depths, scores_by_depth_tr, label=\"Training\") \n",
    "        \n",
    "plt.xlabel(\"Depth\")\n",
    "plt.ylabel(\"Score\")\n",
    "plt.title(\"Desicion Tree Regressor Scores\")\n",
    "plt.legend()\n",
    "plt.show()\n",
    "\n",
    "plt.figure(figsize=(10,5))    \n",
    "plt.plot( depths[1:], scores_by_depth_val[1:], label=\"Validation\") \n",
    "plt.plot( depths[1:], scores_by_depth_tr[1:], label=\"Training\") \n",
    "        \n",
    "plt.xlabel(\"Depth\")\n",
    "plt.ylabel(\"Score\")\n",
    "plt.title(\"Desicion Tree Regressor Scores\")\n",
    "plt.legend()\n",
    "plt.show()\n",
    "\n",
    "plt.figure(figsize=(10,5))    \n",
    "plt.plot( depths, errors_by_depth_val, label=\"Validation\") \n",
    "plt.plot( depths, errors_by_depth_tr, label=\"Training\") \n",
    "        \n",
    "plt.xlabel(\"Depth\")\n",
    "plt.ylabel(\"Error\")\n",
    "plt.title(\"Desicion Tree Regressor Errors\")\n",
    "plt.legend()\n",
    "plt.show()"
   ]
  },
  {
   "cell_type": "markdown",
   "metadata": {},
   "source": [
    "Ahora sin kfold iremos probando valores mas elevados para ver si en algún momento se sobreajusta el árbol."
   ]
  },
  {
   "cell_type": "code",
   "execution_count": 19,
   "metadata": {},
   "outputs": [
    {
     "name": "stdout",
     "output_type": "stream",
     "text": [
      "Progress: [####################] 100.0%\n"
     ]
    }
   ],
   "source": [
    "depth_values = list(range(400,1001,100))\n",
    "scores_by_depth_tr_2 = list()\n",
    "scores_by_depth_val_2 = list()\n",
    "errors_by_depth_tr_2 = list()\n",
    "errors_by_depth_val_2 = list()\n",
    "\n",
    "for i in range(len(depth_values)):\n",
    "    update_progress(i / len(depth_values))\n",
    "    depth_i = depth_values[i]\n",
    "\n",
    "    # Entreno del modelo\n",
    "    kfold_model = DecisionTreeRegressor(criterion='mae', max_depth=depth_i)\n",
    "    kfold_model.fit(x_tr, y_tr)\n",
    "\n",
    "    # Training Error\n",
    "    error_tr = mean_squared_error(kfold_model.predict(x_tr), y_tr)\n",
    "    # Validation Error\n",
    "    error_val = mean_squared_error(kfold_model.predict(x_val), y_val)\n",
    "    # Training Score \n",
    "    score_tr = r2_score(kfold_model.predict(x_tr), y_tr)\n",
    "    # Validation Score\n",
    "    score_val = r2_score(kfold_model.predict(x_val), y_val)\n",
    "        \n",
    "    errors_by_depth_tr_2.append(error_tr)\n",
    "    errors_by_depth_val_2.append(error_val)\n",
    "    scores_by_depth_tr_2.append(score_tr)\n",
    "    scores_by_depth_val_2.append(score_val)\n",
    "    \n",
    "update_progress(1)"
   ]
  },
  {
   "cell_type": "code",
   "execution_count": 20,
   "metadata": {},
   "outputs": [
    {
     "data": {
      "image/png": "[encoded data removed]",
      "text/plain": [
       "<Figure size 720x360 with 1 Axes>"
      ]
     },
     "metadata": {
      "needs_background": "light"
     },
     "output_type": "display_data"
    },
    {
     "data": {
      "image/png": "[encoded data removed]",
      "text/plain": [
       "<Figure size 720x360 with 1 Axes>"
      ]
     },
     "metadata": {
      "needs_background": "light"
     },
     "output_type": "display_data"
    }
   ],
   "source": [
    "import matplotlib.pyplot as plt\n",
    "depths = depth_values\n",
    "\n",
    "plt.figure(figsize=(10,5))    \n",
    "plt.plot( depths, scores_by_depth_val_2, label=\"Validation\") \n",
    "plt.plot( depths, scores_by_depth_tr_2, label=\"Training\") \n",
    "        \n",
    "plt.xlabel(\"Depth\")\n",
    "plt.ylabel(\"Score\")\n",
    "plt.title(\"Desicion Tree Regressor Scores\")\n",
    "plt.legend()\n",
    "plt.show()\n",
    "\n",
    "plt.figure(figsize=(10,5))    \n",
    "plt.plot( depths, errors_by_depth_val_2, label=\"Validation\") \n",
    "plt.plot( depths, errors_by_depth_tr_2, label=\"Training\") \n",
    "        \n",
    "plt.xlabel(\"Depth\")\n",
    "plt.ylabel(\"Error\")\n",
    "plt.title(\"Desicion Tree Regressor Errors\")\n",
    "plt.legend()\n",
    "plt.show()"
   ]
  },
  {
   "cell_type": "code",
   "execution_count": 32,
   "metadata": {},
   "outputs": [
    {
     "name": "stdout",
     "output_type": "stream",
     "text": [
      "Progress: [####################] 100.0%\n"
     ]
    }
   ],
   "source": [
    "depth_values = list(range(2000,10001,1000))\n",
    "scores_by_depth_tr_2 = list()\n",
    "scores_by_depth_val_2 = list()\n",
    "errors_by_depth_tr_2 = list()\n",
    "errors_by_depth_val_2 = list()\n",
    "\n",
    "for i in range(len(depth_values)):\n",
    "    update_progress(i / len(depth_values))\n",
    "    depth_i = depth_values[i]\n",
    "\n",
    "    # Entreno del modelo\n",
    "    kfold_model = DecisionTreeRegressor(criterion='mae', max_depth=depth_i)\n",
    "    kfold_model.fit(x_tr, y_tr)\n",
    "\n",
    "    # Training Error\n",
    "    error_tr = mean_squared_error(kfold_model.predict(x_tr), y_tr)\n",
    "    # Validation Error\n",
    "    error_val = mean_squared_error(kfold_model.predict(x_val), y_val)\n",
    "    # Training Score \n",
    "    score_tr = r2_score(kfold_model.predict(x_tr), y_tr)\n",
    "    # Validation Score\n",
    "    score_val = r2_score(kfold_model.predict(x_val), y_val)\n",
    "        \n",
    "    errors_by_depth_tr_2.append(error_tr)\n",
    "    errors_by_depth_val_2.append(error_val)\n",
    "    scores_by_depth_tr_2.append(score_tr)\n",
    "    scores_by_depth_val_2.append(score_val)\n",
    "    \n",
    "update_progress(1)"
   ]
  },
  {
   "cell_type": "code",
   "execution_count": 33,
   "metadata": {},
   "outputs": [
    {
     "data": {
      "image/png": "[encoded data removed]",
      "text/plain": [
       "<Figure size 720x360 with 1 Axes>"
      ]
     },
     "metadata": {
      "needs_background": "light"
     },
     "output_type": "display_data"
    },
    {
     "data": {
      "image/png": "[encoded data removed]",
      "text/plain": [
       "<Figure size 720x360 with 1 Axes>"
      ]
     },
     "metadata": {
      "needs_background": "light"
     },
     "output_type": "display_data"
    }
   ],
   "source": [
    "import matplotlib.pyplot as plt\n",
    "depths = depth_values\n",
    "\n",
    "plt.figure(figsize=(10,5))    \n",
    "plt.plot( depths, scores_by_depth_val_2, label=\"Validation\") \n",
    "plt.plot( depths, scores_by_depth_tr_2, label=\"Training\") \n",
    "        \n",
    "plt.xlabel(\"Depth\")\n",
    "plt.ylabel(\"Score\")\n",
    "plt.title(\"Desicion Tree Regressor Scores\")\n",
    "plt.legend()\n",
    "plt.show()\n",
    "\n",
    "plt.figure(figsize=(10,5))    \n",
    "plt.plot( depths, errors_by_depth_val_2, label=\"Validation\") \n",
    "plt.plot( depths, errors_by_depth_tr_2, label=\"Training\") \n",
    "        \n",
    "plt.xlabel(\"Depth\")\n",
    "plt.ylabel(\"Error\")\n",
    "plt.title(\"Desicion Tree Regressor Errors\")\n",
    "plt.legend()\n",
    "plt.show()"
   ]
  },
  {
   "cell_type": "markdown",
   "metadata": {},
   "source": [
    "**Conclusión pregunta e:** Se aprecia que a medida que avanza la profundidad del árbol entre los valores 1 y 20, el modelo mejora. Para provocar un sobreajuste se intento con profundidades hasta 10000. Si bien el error de validación se separó algo de el de training, fue un valor muy pequeño, asi que no se podría decir que esta sobreajustado aún."
   ]
  },
  {
   "cell_type": "markdown",
   "metadata": {
    "colab_type": "text",
    "id": "oO9Fo1zFwQef"
   },
   "source": [
    "#### 1.f Random Forest\n",
    "\n",
    "En la pregunta anterior vimos que una profundidad de árbol muy grande puede llevarnos a _overffiting_, pues la cantidad de \"decisiones\" que puede aprender el modelo aumentan significativamente y el modelo tenderá a aprender de memoria el conjunto de entrenamiento, perdiendo capacidad de generalización. Otra aproximación para evitar _overffiting_ no utilizar todos los datos para entrenar, estrategia implementada por _Random Forest_. \n",
    "\n",
    "Discuta por qué el utilizar muchos modelos que no conocen todos los datos puede ayudar a mejorar la capacidad de generalización, evitando así que el modelo final este sobreajustado. Entrene luego un _Random Forest Regressor_, con a lo menos 10 árboles. Discuta sobre que elección realizar sobre la profundidad máxima de estos árboles. ¿Cómo se compara el desempeño de _Random Forest_ frente a un árbol por si solo?"
   ]
  },
  {
   "cell_type": "code",
   "execution_count": 21,
   "metadata": {
    "colab": {},
    "colab_type": "code",
    "id": "h-2ZnZHkwQef"
   },
   "outputs": [
    {
     "data": {
      "text/plain": [
       "RandomForestRegressor(bootstrap=True, criterion='mae', max_depth=5,\n",
       "                      max_features='auto', max_leaf_nodes=None,\n",
       "                      min_impurity_decrease=0.0, min_impurity_split=None,\n",
       "                      min_samples_leaf=1, min_samples_split=2,\n",
       "                      min_weight_fraction_leaf=0.0, n_estimators=20,\n",
       "                      n_jobs=None, oob_score=False, random_state=None,\n",
       "                      verbose=0, warm_start=False)"
      ]
     },
     "execution_count": 21,
     "metadata": {},
     "output_type": "execute_result"
    }
   ],
   "source": [
    "from sklearn.ensemble import RandomForestRegressor\n",
    "forest = RandomForestRegressor(n_estimators=20,\n",
    "                               criterion='mae',\n",
    "                               max_depth=5)\n",
    "\n",
    "forest.fit(x_tr, y_tr)"
   ]
  },
  {
   "cell_type": "code",
   "execution_count": 26,
   "metadata": {},
   "outputs": [
    {
     "name": "stdout",
     "output_type": "stream",
     "text": [
      "MEDIDA                                 Random Forest\n",
      "-------------------------------------  ------------------------\n",
      "MSE TRAINING                           0.0206\n",
      "MSE VALIDATION                         0.0217\n",
      "R2_SCORE TRAINING (Uniform average)    0.9788\n",
      "R2_SCORE VALIDATION (Uniform average)  0.9776\n",
      "SCORE TRAINING (Variance weighted)     0.979\n",
      "SCORE VALIDATION (Variance weighted)   0.9484\n",
      "SCORE TRAINING (Raw values)            [0.9836, 0.9552, 0.9974]\n",
      "SCORE VALIDATION (Raw values)          [0.9827, 0.9535, 0.9965]\n"
     ]
    }
   ],
   "source": [
    "display_metrics(forest, \"Random Forest\")"
   ]
  },
  {
   "cell_type": "markdown",
   "metadata": {},
   "source": [
    "**Comentario**: Podría ser mejor un bosqué en que los árboles hayan sido entrenados con distintos conjuntos de entrenamiento, de esta manera la decisión final no podrá estar sesgada a solo cierto grupo de entrenamiento."
   ]
  },
  {
   "cell_type": "markdown",
   "metadata": {},
   "source": [
    "**Comentario**: Se aprencia que el modelo rindió bastante bien, el score es cercano a 1, aúnque no es mejor que el realizado por los árboles de profundidad 20 o superior vistos en las preguntas anteriores. También el MSE es algo mayor a el logrado por los árboles mencionados."
   ]
  },
  {
   "cell_type": "markdown",
   "metadata": {
    "colab_type": "text",
    "id": "nRyN1kd2wQej"
   },
   "source": [
    "#### 1.g Otros parámetros\n",
    "\n",
    "Por último, investigue un poco sobre los otros parámetros de los árboles y sus implicancias. Luego, entrene un arbol modificando algunos de sus parámetros de una forma que piensen podría haber mejorado el desempeño. Discuta"
   ]
  },
  {
   "cell_type": "markdown",
   "metadata": {},
   "source": [
    "**min_impurity_decrease**: Lo que hace min_impurity_decrease, es que cada vez que se quiera dividir un nodo, si esta mejora la pureza del set en tal valor o mas, se separará. De lo contrario se dejará como un nodo hoja."
   ]
  },
  {
   "cell_type": "markdown",
   "metadata": {},
   "source": [
    "**min_samples_split**: Lo que hace este parametro, es asignar la cantidad minima de ejemplos que tiene que haber en un set en cierto nodo, para seguir separando este. Si el valor es menor a este parametro el nodo no se separará y quedará como un nodo hoja."
   ]
  },
  {
   "cell_type": "code",
   "execution_count": null,
   "metadata": {},
   "outputs": [],
   "source": [
    "#tree = DecisionTreeRegressor(criterion='mae',\n",
    "#                            max_depth=None,\n",
    "#                           min_impurity_decrease=0.1, # for instance\n",
    "#                           min_samples_split=int(x_tr.shape[0]*0.05) #for instance\n",
    "                            #)"
   ]
  },
  {
   "cell_type": "code",
   "execution_count": 30,
   "metadata": {
    "colab": {},
    "colab_type": "code",
    "id": "akHtmusHwQek"
   },
   "outputs": [
    {
     "name": "stdout",
     "output_type": "stream",
     "text": [
      "Progress: [####################] 100.0%\n"
     ]
    }
   ],
   "source": [
    "# Modificando min_samples_split\n",
    "\n",
    "samples_values = list(np.arange(0.01, 0.2, 0.02))\n",
    "scores_by_samples_tr = list()\n",
    "scores_by_samples_val = list()\n",
    "errors_by_samples_tr = list()\n",
    "errors_by_samples_val = list()\n",
    "\n",
    "for i in range(len(imp_values)):\n",
    "    update_progress(i / len(samples_values))\n",
    "    samples = samples_values[i]\n",
    "\n",
    "    # Entreno del modelo\n",
    "    kfold_model = DecisionTreeRegressor(criterion='mae', max_depth=None, min_samples_split=int(x_tr.shape[0]*samples))\n",
    "    kfold_model.fit(x_tr, y_tr)\n",
    "\n",
    "    # Training Error\n",
    "    error_tr = mean_squared_error(kfold_model.predict(x_tr), y_tr)\n",
    "    # Validation Error\n",
    "    error_val = mean_squared_error(kfold_model.predict(x_val), y_val)\n",
    "    # Training Score \n",
    "    score_tr = r2_score(kfold_model.predict(x_tr), y_tr)\n",
    "    # Validation Score\n",
    "    score_val = r2_score(kfold_model.predict(x_val), y_val)\n",
    "        \n",
    "    errors_by_samples_tr.append(error_tr)\n",
    "    errors_by_samples_val.append(error_val)\n",
    "    scores_by_samples_tr.append(score_tr)\n",
    "    scores_by_samples_val.append(score_val)\n",
    "update_progress(1)\n",
    "                                        \n"
   ]
  },
  {
   "cell_type": "code",
   "execution_count": 31,
   "metadata": {},
   "outputs": [
    {
     "data": {
      "image/png": "[encoded data removed]",
      "text/plain": [
       "<Figure size 720x360 with 1 Axes>"
      ]
     },
     "metadata": {
      "needs_background": "light"
     },
     "output_type": "display_data"
    },
    {
     "data": {
      "image/png": "[encoded data removed]",
      "text/plain": [
       "<Figure size 720x360 with 1 Axes>"
      ]
     },
     "metadata": {
      "needs_background": "light"
     },
     "output_type": "display_data"
    }
   ],
   "source": [
    "import matplotlib.pyplot as plt\n",
    "\n",
    "plt.figure(figsize=(10,5))    \n",
    "plt.plot( imp_values, scores_by_samples_val, label=\"Validation\") \n",
    "plt.plot( imp_values, scores_by_samples_tr, label=\"Training\") \n",
    "        \n",
    "plt.xlabel(\"samples percentage\")\n",
    "plt.ylabel(\"Score\")\n",
    "plt.title(\"Desicion Tree Regressor Scores\")\n",
    "plt.legend()\n",
    "plt.show()\n",
    "\n",
    "plt.figure(figsize=(10,5))    \n",
    "plt.plot( imp_values, errors_by_samples_val, label=\"Validation\") \n",
    "plt.plot( imp_values, errors_by_samples_tr, label=\"Training\") \n",
    "        \n",
    "plt.xlabel(\"samples percentage\")\n",
    "plt.ylabel(\"Error\")\n",
    "plt.title(\"Desicion Tree Regressor Errors\")\n",
    "plt.legend()\n",
    "plt.show()"
   ]
  },
  {
   "cell_type": "code",
   "execution_count": null,
   "metadata": {},
   "outputs": [],
   "source": [
    "# Modificando min_impurity_decrease\n",
    "\n",
    "imp_values = list(np.arange(0.1, 1, 0.1))\n",
    "scores_by_imp_tr = list()\n",
    "scores_by_imp_val = list()\n",
    "errors_by_imp_tr = list()\n",
    "errors_by_imp_val = list()\n",
    "\n",
    "for i in range(len(imp_values)):\n",
    "    update_progress(i / len(imp_values))\n",
    "    imp = imp_values[i]\n",
    "\n",
    "    # Entreno del modelo\n",
    "    kfold_model = DecisionTreeRegressor(criterion='mae', max_depth=None, min_impurity_decrease= imp)\n",
    "    kfold_model.fit(x_tr, y_tr)\n",
    "\n",
    "    # Training Error\n",
    "    error_tr = mean_squared_error(kfold_model.predict(x_tr), y_tr)\n",
    "    # Validation Error\n",
    "    error_val = mean_squared_error(kfold_model.predict(x_val), y_val)\n",
    "    # Training Score \n",
    "    score_tr = r2_score(kfold_model.predict(x_tr), y_tr)\n",
    "    # Validation Score\n",
    "    score_val = r2_score(kfold_model.predict(x_val), y_val)\n",
    "        \n",
    "    errors_by_imp_tr.append(error_tr)\n",
    "    errors_by_imp_val.append(error_val)\n",
    "    scores_by_imp_tr.append(score_tr)\n",
    "    scores_by_imp_val.append(score_val)\n",
    "update_progress(1)"
   ]
  },
  {
   "cell_type": "code",
   "execution_count": 29,
   "metadata": {},
   "outputs": [
    {
     "data": {
      "image/png": "[encoded data removed]",
      "text/plain": [
       "<Figure size 720x360 with 1 Axes>"
      ]
     },
     "metadata": {
      "needs_background": "light"
     },
     "output_type": "display_data"
    },
    {
     "data": {
      "image/png": "[encoded data removed]",
      "text/plain": [
       "<Figure size 720x360 with 1 Axes>"
      ]
     },
     "metadata": {
      "needs_background": "light"
     },
     "output_type": "display_data"
    }
   ],
   "source": [
    "import matplotlib.pyplot as plt\n",
    "\n",
    "plt.figure(figsize=(10,5))    \n",
    "plt.plot( imp_values, scores_by_imp_val, label=\"Validation\") \n",
    "plt.plot( imp_values, scores_by_imp_tr, label=\"Training\") \n",
    "        \n",
    "plt.xlabel(\"min_impurity_decrease\")\n",
    "plt.ylabel(\"Score\")\n",
    "plt.title(\"Desicion Tree Regressor Scores\")\n",
    "plt.legend()\n",
    "plt.show()\n",
    "\n",
    "plt.figure(figsize=(10,5))    \n",
    "plt.plot( imp_values, errors_by_imp_val, label=\"Validation\") \n",
    "plt.plot( imp_values, errors_by_imp_tr, label=\"Training\") \n",
    "        \n",
    "plt.xlabel(\"min_impurity_decrease\")\n",
    "plt.ylabel(\"Error\")\n",
    "plt.title(\"Desicion Tree Regressor Errors\")\n",
    "plt.legend()\n",
    "plt.show()"
   ]
  },
  {
   "cell_type": "markdown",
   "metadata": {},
   "source": [
    "**Comentario:** En ambos experimentos se aprecian distintas variaciones en el desempeño según se varían las métricas estudiadas, sin embargo todos estos modelos encontrados son peores que los modelos anteriores."
   ]
  }
 ],
 "metadata": {
  "colab": {
   "name": "ML_tarea3_pregunta1.ipynb",
   "provenance": [],
   "toc_visible": true,
   "version": "0.3.2"
  },
  "kernelspec": {
   "display_name": "Python 3",
   "language": "python",
   "name": "python3"
  },
  "language_info": {
   "codemirror_mode": {
    "name": "ipython",
    "version": 3
   },
   "file_extension": ".py",
   "mimetype": "text/x-python",
   "name": "python",
   "nbconvert_exporter": "python",
   "pygments_lexer": "ipython3",
   "version": "3.6.8"
  }
 },
 "nbformat": 4,
 "nbformat_minor": 1
}
